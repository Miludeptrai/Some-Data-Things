{
  "nbformat": 4,
  "nbformat_minor": 0,
  "metadata": {
    "colab": {
      "provenance": [],
      "collapsed_sections": []
    },
    "kernelspec": {
      "name": "python3",
      "display_name": "Python 3"
    },
    "language_info": {
      "name": "python"
    }
  },
  "cells": [
    {
      "cell_type": "markdown",
      "source": [
        "# Lab 02: Khám phá dữ liệu, tiền xử lý, và phân tích thống kê\n",
        "\n",
        "**Thông tin liên lạc HDTH**\n",
        "\n",
        "Lab Instructor: Lê Nhựt Nam (CN.)\n",
        "\n",
        "Email: lenam.fithcmus@gmail.com\n",
        "\n",
        "**Thông tin sinh viên**\n",
        "\n",
        "Họ tên sinh viên: Nguyễn Tấn Sơn\n",
        "\n",
        "Mã số sinh viên: 20120565"
      ],
      "metadata": {
        "id": "tRJE3DS6bNnX"
      }
    },
    {
      "cell_type": "markdown",
      "source": [
        "## Cách làm bài và nộp bài\n",
        "\n",
        "&#9889; Bạn lưu ý là mình sẽ dùng chương trình hỗ trợ chấm bài nên bạn cần phải tuân thủ chính xác qui định mà mình đặt ra, nếu không rõ thì hỏi, chứ không nên tự tiện làm theo ý của cá nhân.\n",
        "\n",
        "### Cách làm bài\n",
        "\n",
        "Bạn sẽ làm trực tiếp trên file notebook này. Đầu tiên, bạn điền họ tên và MSSV vào phần đầu file ở bên trên. Trong file, bạn làm bài ở những chỗ có ghi là:\n",
        "```python\n",
        "# YOUR CODE HERE\n",
        "raise NotImplementedError()\n",
        "```\n",
        "hoặc đối với những phần code không bắt buộc thì là:\n",
        "```python\n",
        "# YOUR CODE HERE (OPTION)\n",
        "```\n",
        "hoặc đối với markdown cell thì là:\n",
        "```markdown\n",
        "YOUR ANSWER HERE\n",
        "```\n",
        "Tất nhiên, khi làm thì bạn xóa dòng `raise NotImplementedError()` đi.\n",
        "Đối những phần yêu cầu code thì thường ở ngay phía dưới sẽ có một (hoặc một số) cell chứa các bộ test để giúp bạn biết đã code đúng hay chưa; nếu chạy cell này không có lỗi gì thì có nghĩa là qua được các bộ test. Trong một số trường hợp, các bộ test có thể sẽ không đầy đủ; nghĩa là, nếu không qua được test thì là code sai, nhưng nếu qua được test thì chưa chắc đã đúng.\n",
        "\n",
        "Trong khi làm bài, bạn có thể cho in ra màn hình, tạo thêm các cell để test. Nhưng khi nộp bài thì bạn xóa các cell mà bạn tự tạo, xóa hoặc comment các câu lệnh in ra màn hình. Bạn lưu ý <font color=red>không được tự tiện xóa các cell hay sửa code của Lab Instructor</font> (trừ những chỗ được phép sửa như đã nói ở trên).\n",
        "\n",
        "Trong khi làm bài, thường xuyên `Ctrl + S` để lưu lại bài làm của bạn, tránh mất mát thông tin.\n",
        "\n",
        "\n",
        "*Nên nhớ mục tiêu chính ở đây là <font color=green>học, học một cách chân thật</font>. Bạn có thể thảo luận ý tưởng với bạn khác, nhưng <font color=green>code và bài làm phải là của bạn, dựa trên sự hiểu thật sự của bạn</font>. <font color=red>Nếu vi phạm thì sẽ bị 0 điểm cho toàn bộ môn học.</font>*\n",
        "\n",
        "\n",
        "### Cách nộp bài\n",
        "\n",
        "Khi chấm bài, đầu tiên mình sẽ chọn `Kernel` - `Restart & Run All`, để restart và chạy tất cả các cell trong notebook của bạn; do đó, trước khi nộp bài, bạn nên chạy thử `Kernel` - `Restart & Run All` để đảm bảo mọi chuyện diễn ra đúng như mong đợi.\n",
        "\n",
        "Sau đó, bạn tạo thư mục nộp bài theo cấu trúc sau:\n",
        "- Thư mục `MSSV` (vd, nếu bạn có MSSV là 1234567 thì bạn đặt tên thư mục là `1234567`)\n",
        "    - File `BT02-KhamPha_TienXuLy_PhanTich.ipynb` (không cần nộp các file khác)\n",
        "\n",
        "Cuối cùng, bạn nén thư mục `MSSV` này lại với định dạng `.zip` và nộp ở link trên moodle. <font color=red>Bạn lưu ý tuân thủ chính xác cấu trúc và định dạng tập tin nộp bài này.</font>"
      ],
      "metadata": {
        "id": "H8sm4oE1bV8g"
      }
    },
    {
      "cell_type": "markdown",
      "source": [
        "## Import những thư viện cần thiết"
      ],
      "metadata": {
        "id": "sh1IrYaMbdFG"
      }
    },
    {
      "cell_type": "code",
      "source": [
        "%matplotlib inline\n",
        "import matplotlib.pyplot as plt\n",
        "import numpy as np\n",
        "import pandas as pd \n",
        "import math\n",
        "# YOUR CODE HERE (OPTION)\n",
        "# Nếu cần các thư viện khác thì bạn có thể import ở đây"
      ],
      "metadata": {
        "id": "2ZduL2Vjbi49"
      },
      "execution_count": 192,
      "outputs": []
    },
    {
      "cell_type": "code",
      "source": [
        "cd ./drive/MyDrive/HW2"
      ],
      "metadata": {
        "colab": {
          "base_uri": "https://localhost:8080/"
        },
        "id": "3lzFclmMn40I",
        "outputId": "4ab0286e-c692-49bc-c355-8c0c46ad95c7"
      },
      "execution_count": 193,
      "outputs": [
        {
          "output_type": "stream",
          "name": "stdout",
          "text": [
            "[Errno 2] No such file or directory: './drive/MyDrive/HW2'\n",
            "/content/drive/MyDrive/HW2\n"
          ]
        }
      ]
    },
    {
      "cell_type": "code",
      "source": [
        "!sudo apt-get install tree"
      ],
      "metadata": {
        "colab": {
          "base_uri": "https://localhost:8080/"
        },
        "id": "2sWFE_OF8_UF",
        "outputId": "d763e059-65bb-4a56-e0b3-66d7fbdcb36f"
      },
      "execution_count": 194,
      "outputs": [
        {
          "output_type": "stream",
          "name": "stdout",
          "text": [
            "Reading package lists... Done\n",
            "Building dependency tree       \n",
            "Reading state information... Done\n",
            "tree is already the newest version (1.7.0-5).\n",
            "The following package was automatically installed and is no longer required:\n",
            "  libnvidia-common-460\n",
            "Use 'sudo apt autoremove' to remove it.\n",
            "0 upgraded, 0 newly installed, 0 to remove and 4 not upgraded.\n"
          ]
        }
      ]
    },
    {
      "cell_type": "code",
      "source": [
        "import sys\n",
        "sys.executable"
      ],
      "metadata": {
        "colab": {
          "base_uri": "https://localhost:8080/",
          "height": 36
        },
        "id": "TPYPgotLblej",
        "outputId": "ebe2297d-3b42-4b26-f1d1-9236396ab152"
      },
      "execution_count": 195,
      "outputs": [
        {
          "output_type": "execute_result",
          "data": {
            "text/plain": [
              "'/usr/bin/python3'"
            ],
            "application/vnd.google.colaboratory.intrinsic+json": {
              "type": "string"
            }
          },
          "metadata": {},
          "execution_count": 195
        }
      ]
    },
    {
      "cell_type": "markdown",
      "source": [
        "## Thu thập dữ liệu\n",
        "\n",
        "Dữ liệu được sử dụng trong bài tập này là dữ liệu khảo sát các lập trình viên của trang StackOverflow.\n",
        "\n",
        "Theo mô tả trong file \"README_2022.txt\" của StackOverflow:\n",
        "\n",
        "> The enclosed data set is the complete, cleaned results of the 2022 Stack Overflow Developer Survey. Free response submissions and personally-identifying information have been removed from the results to protect the privacy of respondents. There are three files besides this README:\n",
        "> \n",
        "> 1. survey_results_public.csv - CSV file with main survey results, one respondent per row and one column per answer\n",
        "> 2. survey_results_schema.csv - CSV file with survey schema, i.e., the questions that correspond to each column name\n",
        "> 3. so_survey_2022.pdf - PDF file of the survey instrument\n",
        "> The survey was fielded from May 11, 2022 to June 1, 2022. The median time spent on the survey for qualified responses was 15.08 minutes.\n",
        "> \n",
        "> Respondents were recruited primarily through channels owned by Stack Overflow. The top 5 sources of respondents were onsite messaging, blog posts, email lists, Meta posts, banner ads, and social media posts. Since respondents were recruited in this way, highly engaged users on Stack Overflow were more likely to notice the links for the survey and click to begin it.\n",
        "\n",
        "Để ý: \n",
        "- Dữ liệu này không đại diện được cho cộng đồng lập trình viên trên toàn thế giới, mà chỉ giới hạn trong tập những lập trình viên thực hiện khảo sát của StackOverflow. Những câu trả lời có được thông qua tập dữ liệu này cũng sẽ bị giới hạn trong phạm vi đó.\n",
        "- Dữ liệu có đúng không? Về cơ bản là ta không biết được. Ở đây, mục đích chính là học qui trình Khoa Học Dữ Liệu và các câu lệnh của Pandas nên ta sẽ **giả định** phần lớn dữ liệu là đúng và tiếp tục làm.\n",
        "\n",
        "Cũng theo file \"README_2022.txt\", dữ liệu này được StackOverflow public với license như sau:\n",
        "\n",
        "> This database - The Public 2022 Stack Overflow Developer Survey Results - is made available under the Open Database License (ODbL): http://opendatacommons.org/licenses/odbl/1.0/. Any rights in individual contents of the database are licensed under the Database Contents License: http://opendatacommons.org/licenses/dbcl/1.0/\n",
        "> \n",
        "> TLDR: You are free to share, adapt, and create derivative works from The Public 2022 Stack Overflow Developer Survey Results as long as you attribute Stack Overflow, keep the database open (if you redistribute it), and continue to share-alike any adapted database under the ODbl.\n",
        "\n",
        "Trong phần Acknowledgment:\n",
        "\n",
        "> Massive, heartfelt thanks to all Stack Overflow contributors and lurking developers of the world who took part in the survey this year. We value your generous participation more than you know. <3\n"
      ],
      "metadata": {
        "id": "C31NxmtUbol2"
      }
    },
    {
      "cell_type": "markdown",
      "source": [
        "## Khám phá dữ liệu\n",
        "\n",
        "Thư mục HW2 sẽ được tổ chức như sau: "
      ],
      "metadata": {
        "id": "tJQTGkp0bswh"
      }
    },
    {
      "cell_type": "code",
      "source": [
        "!tree"
      ],
      "metadata": {
        "colab": {
          "base_uri": "https://localhost:8080/"
        },
        "id": "LvcWYbnXbtsO",
        "outputId": "fb152870-517c-4e5a-db0f-4b324a3b1701"
      },
      "execution_count": 196,
      "outputs": [
        {
          "output_type": "stream",
          "name": "stdout",
          "text": [
            ".\n",
            "├── data\n",
            "│   ├── 2020\n",
            "│   │   ├── README_2020.txt\n",
            "│   │   ├── so_survey_2020.pdf\n",
            "│   │   ├── survey_results_public.csv\n",
            "│   │   └── survey_results_schema.csv\n",
            "│   ├── 2021\n",
            "│   │   ├── README_2021.txt\n",
            "│   │   ├── so_survey_2021.pdf\n",
            "│   │   ├── survey_results_public.csv\n",
            "│   │   └── survey_results_schema.csv\n",
            "│   └── 2022\n",
            "│       ├── README_2022.txt\n",
            "│       ├── so_survey_2022.pdf\n",
            "│       ├── survey_results_public.csv\n",
            "│       └── survey_results_schema.csv\n",
            "├── Lab_02.ipynb\n",
            "└── New Text Document.csv\n",
            "\n",
            "4 directories, 14 files\n"
          ]
        }
      ]
    },
    {
      "cell_type": "markdown",
      "source": [
        "### Đọc dữ liệu từ tập tin (file) - Điểm: (0.25đ)\n",
        "\n",
        "Đầu tiên, bạn viết code để đọc dữ liệu từ file \"survey_results_public.csv\" và lưu kết quả vào DataFrame survey_df. Ngoài ra, bạn cũng cần cho cột ResponseId (id của người làm khảo sát) làm cột index của survey_df."
      ],
      "metadata": {
        "id": "0agUEcxvsXFr"
      }
    },
    {
      "cell_type": "code",
      "source": [
        "survey_df=(pd.read_csv('./data/2022/survey_results_public.csv',index_col='ResponseId'))"
      ],
      "metadata": {
        "id": "z-x4FiqFsX41"
      },
      "execution_count": 197,
      "outputs": []
    },
    {
      "cell_type": "code",
      "source": [
        "# TEST\n",
        "survey_df.head()"
      ],
      "metadata": {
        "colab": {
          "base_uri": "https://localhost:8080/",
          "height": 856
        },
        "id": "eAuJd-y-tf3Q",
        "outputId": "bae9871e-c54a-424b-e62c-52eec344bdd0"
      },
      "execution_count": 198,
      "outputs": [
        {
          "output_type": "execute_result",
          "data": {
            "text/plain": [
              "                                                                               MainBranch  \\\n",
              "ResponseId                                                                                  \n",
              "1                                                                           None of these   \n",
              "2                                                          I am a developer by profession   \n",
              "3           I am not primarily a developer, but I write code sometimes as part of my work   \n",
              "4                                                          I am a developer by profession   \n",
              "5                                                          I am a developer by profession   \n",
              "\n",
              "                     Employment                            RemoteWork  \\\n",
              "ResponseId                                                              \n",
              "1                           NaN                                   NaN   \n",
              "2           Employed, full-time                          Fully remote   \n",
              "3           Employed, full-time  Hybrid (some remote, some in-person)   \n",
              "4           Employed, full-time                          Fully remote   \n",
              "5           Employed, full-time  Hybrid (some remote, some in-person)   \n",
              "\n",
              "                                    CodingActivities  \\\n",
              "ResponseId                                             \n",
              "1                                                NaN   \n",
              "2           Hobby;Contribute to open-source projects   \n",
              "3                                              Hobby   \n",
              "4                       I don’t code outside of work   \n",
              "5                                              Hobby   \n",
              "\n",
              "                                                    EdLevel  \\\n",
              "ResponseId                                                    \n",
              "1                                                       NaN   \n",
              "2                                                       NaN   \n",
              "3           Master’s degree (M.A., M.S., M.Eng., MBA, etc.)   \n",
              "4              Bachelor’s degree (B.A., B.S., B.Eng., etc.)   \n",
              "5              Bachelor’s degree (B.A., B.S., B.Eng., etc.)   \n",
              "\n",
              "                                                                                                      LearnCode  \\\n",
              "ResponseId                                                                                                        \n",
              "1                                                                                                           NaN   \n",
              "2                                                                                                           NaN   \n",
              "3           Books / Physical media;Friend or family member;Other online resources (e.g., videos, blogs, foru...   \n",
              "4                                                Books / Physical media;School (i.e., University, College, etc)   \n",
              "5           Other online resources (e.g., videos, blogs, forum);School (i.e., University, College, etc);On t...   \n",
              "\n",
              "                                                                                                LearnCodeOnline  \\\n",
              "ResponseId                                                                                                        \n",
              "1                                                                                                           NaN   \n",
              "2                                                                                                           NaN   \n",
              "3                              Technical documentation;Blogs;Programming Games;Written Tutorials;Stack Overflow   \n",
              "4                                                                                                           NaN   \n",
              "5           Technical documentation;Blogs;Stack Overflow;Online books;Video-based Online Courses;Online chal...   \n",
              "\n",
              "           LearnCodeCoursesCert YearsCode YearsCodePro  \\\n",
              "ResponseId                                               \n",
              "1                           NaN       NaN          NaN   \n",
              "2                           NaN       NaN          NaN   \n",
              "3                           NaN        14            5   \n",
              "4                           NaN        20           17   \n",
              "5                           NaN         8            3   \n",
              "\n",
              "                                                                                                        DevType  \\\n",
              "ResponseId                                                                                                        \n",
              "1                                                                                                           NaN   \n",
              "2                                                                                                           NaN   \n",
              "3           Data scientist or machine learning specialist;Developer, front-end;Engineer, data;Engineer, site...   \n",
              "4                                                                                         Developer, full-stack   \n",
              "5           Developer, front-end;Developer, full-stack;Developer, back-end;Developer, desktop or enterprise ...   \n",
              "\n",
              "                         OrgSize      PurchaseInfluence  \\\n",
              "ResponseId                                                \n",
              "1                            NaN                    NaN   \n",
              "2                            NaN                    NaN   \n",
              "3             20 to 99 employees  I have some influence   \n",
              "4           100 to 499 employees  I have some influence   \n",
              "5             20 to 99 employees  I have some influence   \n",
              "\n",
              "                                                                    BuyNewTool  \\\n",
              "ResponseId                                                                       \n",
              "1                                                                          NaN   \n",
              "2                                                                          NaN   \n",
              "3                                                                          NaN   \n",
              "4                                                      Other (please specify):   \n",
              "5           Start a free trial;Visit developer communities like Stack Overflow   \n",
              "\n",
              "                                                         Country  \\\n",
              "ResponseId                                                         \n",
              "1                                                            NaN   \n",
              "2                                                         Canada   \n",
              "3           United Kingdom of Great Britain and Northern Ireland   \n",
              "4                                                         Israel   \n",
              "5                                       United States of America   \n",
              "\n",
              "                             Currency  CompTotal CompFreq  \\\n",
              "ResponseId                                                  \n",
              "1                                 NaN        NaN      NaN   \n",
              "2                CAD\\tCanadian dollar        NaN      NaN   \n",
              "3                 GBP\\tPound sterling    32000.0   Yearly   \n",
              "4             ILS\\tIsraeli new shekel    60000.0  Monthly   \n",
              "5           USD\\tUnited States dollar        NaN      NaN   \n",
              "\n",
              "                                 LanguageHaveWorkedWith  \\\n",
              "ResponseId                                                \n",
              "1                                                   NaN   \n",
              "2                                 JavaScript;TypeScript   \n",
              "3                     C#;C++;HTML/CSS;JavaScript;Python   \n",
              "4                          C#;JavaScript;SQL;TypeScript   \n",
              "5           C#;HTML/CSS;JavaScript;SQL;Swift;TypeScript   \n",
              "\n",
              "                                LanguageWantToWorkWith  \\\n",
              "ResponseId                                               \n",
              "1                                                  NaN   \n",
              "2                                      Rust;TypeScript   \n",
              "3                C#;C++;HTML/CSS;JavaScript;TypeScript   \n",
              "4                                    C#;SQL;TypeScript   \n",
              "5           C#;Elixir;F#;Go;JavaScript;Rust;TypeScript   \n",
              "\n",
              "                                                                   DatabaseHaveWorkedWith  \\\n",
              "ResponseId                                                                                  \n",
              "1                                                                                     NaN   \n",
              "2                                                                                     NaN   \n",
              "3                                                                    Microsoft SQL Server   \n",
              "4                                                                    Microsoft SQL Server   \n",
              "5           Cloud Firestore;Elasticsearch;Microsoft SQL Server;Firebase Realtime Database   \n",
              "\n",
              "                                                    DatabaseWantToWorkWith  \\\n",
              "ResponseId                                                                   \n",
              "1                                                                      NaN   \n",
              "2                                                                      NaN   \n",
              "3                                                     Microsoft SQL Server   \n",
              "4                                                     Microsoft SQL Server   \n",
              "5           Cloud Firestore;Elasticsearch;Firebase Realtime Database;Redis   \n",
              "\n",
              "              PlatformHaveWorkedWith    PlatformWantToWorkWith  \\\n",
              "ResponseId                                                       \n",
              "1                                NaN                       NaN   \n",
              "2                                NaN                       NaN   \n",
              "3                                NaN                       NaN   \n",
              "4                                NaN                       NaN   \n",
              "5           Firebase;Microsoft Azure  Firebase;Microsoft Azure   \n",
              "\n",
              "                                  WebframeHaveWorkedWith  \\\n",
              "ResponseId                                                 \n",
              "1                                                    NaN   \n",
              "2                                                    NaN   \n",
              "3                                             Angular.js   \n",
              "4                                  ASP.NET;ASP.NET Core    \n",
              "5           Angular;ASP.NET;ASP.NET Core ;jQuery;Node.js   \n",
              "\n",
              "                          WebframeWantToWorkWith MiscTechHaveWorkedWith  \\\n",
              "ResponseId                                                                \n",
              "1                                            NaN                    NaN   \n",
              "2                                            NaN                    NaN   \n",
              "3                             Angular;Angular.js                 Pandas   \n",
              "4                          ASP.NET;ASP.NET Core                    .NET   \n",
              "5           Angular;ASP.NET Core ;Blazor;Node.js                   .NET   \n",
              "\n",
              "           MiscTechWantToWorkWith ToolsTechHaveWorkedWith  \\\n",
              "ResponseId                                                  \n",
              "1                             NaN                     NaN   \n",
              "2                             NaN                     NaN   \n",
              "3                            .NET                     NaN   \n",
              "4                            .NET                     NaN   \n",
              "5               .NET;Apache Kafka                     npm   \n",
              "\n",
              "           ToolsTechWantToWorkWith  \\\n",
              "ResponseId                           \n",
              "1                              NaN   \n",
              "2                              NaN   \n",
              "3                              NaN   \n",
              "4                              NaN   \n",
              "5                Docker;Kubernetes   \n",
              "\n",
              "                                NEWCollabToolsHaveWorkedWith  \\\n",
              "ResponseId                                                     \n",
              "1                                                        NaN   \n",
              "2                                                        NaN   \n",
              "3                                    Notepad++;Visual Studio   \n",
              "4                 Notepad++;Visual Studio;Visual Studio Code   \n",
              "5           Notepad++;Visual Studio;Visual Studio Code;Xcode   \n",
              "\n",
              "                          NEWCollabToolsWantToWorkWith OpSysProfessional use  \\\n",
              "ResponseId                                                                     \n",
              "1                                                  NaN                   NaN   \n",
              "2                                                  NaN                 macOS   \n",
              "3                              Notepad++;Visual Studio               Windows   \n",
              "4           Notepad++;Visual Studio;Visual Studio Code               Windows   \n",
              "5               Rider;Visual Studio;Visual Studio Code               Windows   \n",
              "\n",
              "                            OpSysPersonal use         VersionControlSystem  \\\n",
              "ResponseId                                                                   \n",
              "1                                         NaN                          NaN   \n",
              "2           Windows Subsystem for Linux (WSL)                          Git   \n",
              "3                                     Windows                          Git   \n",
              "4                                     Windows                          Git   \n",
              "5                               macOS;Windows  Git;Other (please specify):   \n",
              "\n",
              "                                                                                                  VCInteraction  \\\n",
              "ResponseId                                                                                                        \n",
              "1                                                                                                           NaN   \n",
              "2                                                                                                           NaN   \n",
              "3                                                                                                   Code editor   \n",
              "4           Code editor;Command-line;Version control hosting service web GUI;Dedicated version control GUI a...   \n",
              "5                                                                                                   Code editor   \n",
              "\n",
              "            VCHostingPersonal use  VCHostingProfessional use  \\\n",
              "ResponseId                                                     \n",
              "1                             NaN                        NaN   \n",
              "2                             NaN                        NaN   \n",
              "3                             NaN                        NaN   \n",
              "4                             NaN                        NaN   \n",
              "5                             NaN                        NaN   \n",
              "\n",
              "           OfficeStackAsyncHaveWorkedWith OfficeStackAsyncWantToWorkWith  \\\n",
              "ResponseId                                                                 \n",
              "1                                     NaN                            NaN   \n",
              "2                                     NaN                            NaN   \n",
              "3                                     NaN                            NaN   \n",
              "4             Jira Work Management;Trello    Jira Work Management;Trello   \n",
              "5                                     NaN                            NaN   \n",
              "\n",
              "           OfficeStackSyncHaveWorkedWith OfficeStackSyncWantToWorkWith  \\\n",
              "ResponseId                                                               \n",
              "1                                    NaN                           NaN   \n",
              "2                                    NaN                           NaN   \n",
              "3                        Microsoft Teams               Microsoft Teams   \n",
              "4                             Slack;Zoom                    Slack;Zoom   \n",
              "5                   Microsoft Teams;Zoom                           NaN   \n",
              "\n",
              "                  Blockchain  \\\n",
              "ResponseId                     \n",
              "1                        NaN   \n",
              "2           Very unfavorable   \n",
              "3           Very unfavorable   \n",
              "4           Very unfavorable   \n",
              "5                Unfavorable   \n",
              "\n",
              "                                                                                                     NEWSOSites  \\\n",
              "ResponseId                                                                                                        \n",
              "1                                                                                                           NaN   \n",
              "2           Collectives on Stack Overflow;Stack Overflow for Teams (private knowledge sharing & collaboratio...   \n",
              "3                                                   Collectives on Stack Overflow;Stack Overflow;Stack Exchange   \n",
              "4           Collectives on Stack Overflow;Stack Overflow for Teams (private knowledge sharing & collaboratio...   \n",
              "5           Collectives on Stack Overflow;Stack Overflow for Teams (private knowledge sharing & collaboratio...   \n",
              "\n",
              "                       SOVisitFreq SOAccount              SOPartFreq  \\\n",
              "ResponseId                                                             \n",
              "1                              NaN       NaN                     NaN   \n",
              "2            Daily or almost daily       Yes   Daily or almost daily   \n",
              "3           Multiple times per day       Yes  Multiple times per day   \n",
              "4            Daily or almost daily       Yes    A few times per week   \n",
              "5           Multiple times per day       Yes   Daily or almost daily   \n",
              "\n",
              "                     SOComm              Age Gender Trans  \\\n",
              "ResponseId                                                  \n",
              "1                       NaN              NaN    NaN   NaN   \n",
              "2                  Not sure              NaN    NaN   NaN   \n",
              "3                   Neutral  25-34 years old    Man    No   \n",
              "4           Yes, definitely  35-44 years old    Man    No   \n",
              "5           Yes, definitely  25-34 years old    NaN   NaN   \n",
              "\n",
              "                          Sexuality Ethnicity      Accessibility  \\\n",
              "ResponseId                                                         \n",
              "1                               NaN       NaN                NaN   \n",
              "2                               NaN       NaN                NaN   \n",
              "3                          Bisexual     White  None of the above   \n",
              "4           Straight / Heterosexual     White  None of the above   \n",
              "5                               NaN       NaN                NaN   \n",
              "\n",
              "                                                                                                   MentalHealth  \\\n",
              "ResponseId                                                                                                        \n",
              "1                                                                                                           NaN   \n",
              "2                                                                                                           NaN   \n",
              "3           I have a mood or emotional disorder (e.g., depression, bipolar disorder, etc.);I have an anxiety...   \n",
              "4                                                                                             None of the above   \n",
              "5                                                                                                           NaN   \n",
              "\n",
              "           TBranch ICorPM  WorkExp Knowledge_1 Knowledge_2 Knowledge_3  \\\n",
              "ResponseId                                                               \n",
              "1              NaN    NaN      NaN         NaN         NaN         NaN   \n",
              "2               No    NaN      NaN         NaN         NaN         NaN   \n",
              "3               No    NaN      NaN         NaN         NaN         NaN   \n",
              "4               No    NaN      NaN         NaN         NaN         NaN   \n",
              "5               No    NaN      NaN         NaN         NaN         NaN   \n",
              "\n",
              "           Knowledge_4 Knowledge_5 Knowledge_6 Knowledge_7 Frequency_1  \\\n",
              "ResponseId                                                               \n",
              "1                  NaN         NaN         NaN         NaN         NaN   \n",
              "2                  NaN         NaN         NaN         NaN         NaN   \n",
              "3                  NaN         NaN         NaN         NaN         NaN   \n",
              "4                  NaN         NaN         NaN         NaN         NaN   \n",
              "5                  NaN         NaN         NaN         NaN         NaN   \n",
              "\n",
              "           Frequency_2 Frequency_3 TimeSearching TimeAnswering Onboarding  \\\n",
              "ResponseId                                                                  \n",
              "1                  NaN         NaN           NaN           NaN        NaN   \n",
              "2                  NaN         NaN           NaN           NaN        NaN   \n",
              "3                  NaN         NaN           NaN           NaN        NaN   \n",
              "4                  NaN         NaN           NaN           NaN        NaN   \n",
              "5                  NaN         NaN           NaN           NaN        NaN   \n",
              "\n",
              "           ProfessionalTech TrueFalse_1 TrueFalse_2 TrueFalse_3  \\\n",
              "ResponseId                                                        \n",
              "1                       NaN         NaN         NaN         NaN   \n",
              "2                       NaN         NaN         NaN         NaN   \n",
              "3                       NaN         NaN         NaN         NaN   \n",
              "4                       NaN         NaN         NaN         NaN   \n",
              "5                       NaN         NaN         NaN         NaN   \n",
              "\n",
              "                     SurveyLength                  SurveyEase  \\\n",
              "ResponseId                                                      \n",
              "1                             NaN                         NaN   \n",
              "2                        Too long                   Difficult   \n",
              "3           Appropriate in length  Neither easy nor difficult   \n",
              "4           Appropriate in length                        Easy   \n",
              "5                        Too long                        Easy   \n",
              "\n",
              "            ConvertedCompYearly  \n",
              "ResponseId                       \n",
              "1                           NaN  \n",
              "2                           NaN  \n",
              "3                       40205.0  \n",
              "4                      215232.0  \n",
              "5                           NaN  "
            ],
            "text/html": [
              "\n",
              "  <div id=\"df-d512351a-b98b-45ae-9314-6fd70679a4c2\">\n",
              "    <div class=\"colab-df-container\">\n",
              "      <div>\n",
              "<style scoped>\n",
              "    .dataframe tbody tr th:only-of-type {\n",
              "        vertical-align: middle;\n",
              "    }\n",
              "\n",
              "    .dataframe tbody tr th {\n",
              "        vertical-align: top;\n",
              "    }\n",
              "\n",
              "    .dataframe thead th {\n",
              "        text-align: right;\n",
              "    }\n",
              "</style>\n",
              "<table border=\"1\" class=\"dataframe\">\n",
              "  <thead>\n",
              "    <tr style=\"text-align: right;\">\n",
              "      <th></th>\n",
              "      <th>MainBranch</th>\n",
              "      <th>Employment</th>\n",
              "      <th>RemoteWork</th>\n",
              "      <th>CodingActivities</th>\n",
              "      <th>EdLevel</th>\n",
              "      <th>LearnCode</th>\n",
              "      <th>LearnCodeOnline</th>\n",
              "      <th>LearnCodeCoursesCert</th>\n",
              "      <th>YearsCode</th>\n",
              "      <th>YearsCodePro</th>\n",
              "      <th>DevType</th>\n",
              "      <th>OrgSize</th>\n",
              "      <th>PurchaseInfluence</th>\n",
              "      <th>BuyNewTool</th>\n",
              "      <th>Country</th>\n",
              "      <th>Currency</th>\n",
              "      <th>CompTotal</th>\n",
              "      <th>CompFreq</th>\n",
              "      <th>LanguageHaveWorkedWith</th>\n",
              "      <th>LanguageWantToWorkWith</th>\n",
              "      <th>DatabaseHaveWorkedWith</th>\n",
              "      <th>DatabaseWantToWorkWith</th>\n",
              "      <th>PlatformHaveWorkedWith</th>\n",
              "      <th>PlatformWantToWorkWith</th>\n",
              "      <th>WebframeHaveWorkedWith</th>\n",
              "      <th>WebframeWantToWorkWith</th>\n",
              "      <th>MiscTechHaveWorkedWith</th>\n",
              "      <th>MiscTechWantToWorkWith</th>\n",
              "      <th>ToolsTechHaveWorkedWith</th>\n",
              "      <th>ToolsTechWantToWorkWith</th>\n",
              "      <th>NEWCollabToolsHaveWorkedWith</th>\n",
              "      <th>NEWCollabToolsWantToWorkWith</th>\n",
              "      <th>OpSysProfessional use</th>\n",
              "      <th>OpSysPersonal use</th>\n",
              "      <th>VersionControlSystem</th>\n",
              "      <th>VCInteraction</th>\n",
              "      <th>VCHostingPersonal use</th>\n",
              "      <th>VCHostingProfessional use</th>\n",
              "      <th>OfficeStackAsyncHaveWorkedWith</th>\n",
              "      <th>OfficeStackAsyncWantToWorkWith</th>\n",
              "      <th>OfficeStackSyncHaveWorkedWith</th>\n",
              "      <th>OfficeStackSyncWantToWorkWith</th>\n",
              "      <th>Blockchain</th>\n",
              "      <th>NEWSOSites</th>\n",
              "      <th>SOVisitFreq</th>\n",
              "      <th>SOAccount</th>\n",
              "      <th>SOPartFreq</th>\n",
              "      <th>SOComm</th>\n",
              "      <th>Age</th>\n",
              "      <th>Gender</th>\n",
              "      <th>Trans</th>\n",
              "      <th>Sexuality</th>\n",
              "      <th>Ethnicity</th>\n",
              "      <th>Accessibility</th>\n",
              "      <th>MentalHealth</th>\n",
              "      <th>TBranch</th>\n",
              "      <th>ICorPM</th>\n",
              "      <th>WorkExp</th>\n",
              "      <th>Knowledge_1</th>\n",
              "      <th>Knowledge_2</th>\n",
              "      <th>Knowledge_3</th>\n",
              "      <th>Knowledge_4</th>\n",
              "      <th>Knowledge_5</th>\n",
              "      <th>Knowledge_6</th>\n",
              "      <th>Knowledge_7</th>\n",
              "      <th>Frequency_1</th>\n",
              "      <th>Frequency_2</th>\n",
              "      <th>Frequency_3</th>\n",
              "      <th>TimeSearching</th>\n",
              "      <th>TimeAnswering</th>\n",
              "      <th>Onboarding</th>\n",
              "      <th>ProfessionalTech</th>\n",
              "      <th>TrueFalse_1</th>\n",
              "      <th>TrueFalse_2</th>\n",
              "      <th>TrueFalse_3</th>\n",
              "      <th>SurveyLength</th>\n",
              "      <th>SurveyEase</th>\n",
              "      <th>ConvertedCompYearly</th>\n",
              "    </tr>\n",
              "    <tr>\n",
              "      <th>ResponseId</th>\n",
              "      <th></th>\n",
              "      <th></th>\n",
              "      <th></th>\n",
              "      <th></th>\n",
              "      <th></th>\n",
              "      <th></th>\n",
              "      <th></th>\n",
              "      <th></th>\n",
              "      <th></th>\n",
              "      <th></th>\n",
              "      <th></th>\n",
              "      <th></th>\n",
              "      <th></th>\n",
              "      <th></th>\n",
              "      <th></th>\n",
              "      <th></th>\n",
              "      <th></th>\n",
              "      <th></th>\n",
              "      <th></th>\n",
              "      <th></th>\n",
              "      <th></th>\n",
              "      <th></th>\n",
              "      <th></th>\n",
              "      <th></th>\n",
              "      <th></th>\n",
              "      <th></th>\n",
              "      <th></th>\n",
              "      <th></th>\n",
              "      <th></th>\n",
              "      <th></th>\n",
              "      <th></th>\n",
              "      <th></th>\n",
              "      <th></th>\n",
              "      <th></th>\n",
              "      <th></th>\n",
              "      <th></th>\n",
              "      <th></th>\n",
              "      <th></th>\n",
              "      <th></th>\n",
              "      <th></th>\n",
              "      <th></th>\n",
              "      <th></th>\n",
              "      <th></th>\n",
              "      <th></th>\n",
              "      <th></th>\n",
              "      <th></th>\n",
              "      <th></th>\n",
              "      <th></th>\n",
              "      <th></th>\n",
              "      <th></th>\n",
              "      <th></th>\n",
              "      <th></th>\n",
              "      <th></th>\n",
              "      <th></th>\n",
              "      <th></th>\n",
              "      <th></th>\n",
              "      <th></th>\n",
              "      <th></th>\n",
              "      <th></th>\n",
              "      <th></th>\n",
              "      <th></th>\n",
              "      <th></th>\n",
              "      <th></th>\n",
              "      <th></th>\n",
              "      <th></th>\n",
              "      <th></th>\n",
              "      <th></th>\n",
              "      <th></th>\n",
              "      <th></th>\n",
              "      <th></th>\n",
              "      <th></th>\n",
              "      <th></th>\n",
              "      <th></th>\n",
              "      <th></th>\n",
              "      <th></th>\n",
              "      <th></th>\n",
              "      <th></th>\n",
              "      <th></th>\n",
              "    </tr>\n",
              "  </thead>\n",
              "  <tbody>\n",
              "    <tr>\n",
              "      <th>1</th>\n",
              "      <td>None of these</td>\n",
              "      <td>NaN</td>\n",
              "      <td>NaN</td>\n",
              "      <td>NaN</td>\n",
              "      <td>NaN</td>\n",
              "      <td>NaN</td>\n",
              "      <td>NaN</td>\n",
              "      <td>NaN</td>\n",
              "      <td>NaN</td>\n",
              "      <td>NaN</td>\n",
              "      <td>NaN</td>\n",
              "      <td>NaN</td>\n",
              "      <td>NaN</td>\n",
              "      <td>NaN</td>\n",
              "      <td>NaN</td>\n",
              "      <td>NaN</td>\n",
              "      <td>NaN</td>\n",
              "      <td>NaN</td>\n",
              "      <td>NaN</td>\n",
              "      <td>NaN</td>\n",
              "      <td>NaN</td>\n",
              "      <td>NaN</td>\n",
              "      <td>NaN</td>\n",
              "      <td>NaN</td>\n",
              "      <td>NaN</td>\n",
              "      <td>NaN</td>\n",
              "      <td>NaN</td>\n",
              "      <td>NaN</td>\n",
              "      <td>NaN</td>\n",
              "      <td>NaN</td>\n",
              "      <td>NaN</td>\n",
              "      <td>NaN</td>\n",
              "      <td>NaN</td>\n",
              "      <td>NaN</td>\n",
              "      <td>NaN</td>\n",
              "      <td>NaN</td>\n",
              "      <td>NaN</td>\n",
              "      <td>NaN</td>\n",
              "      <td>NaN</td>\n",
              "      <td>NaN</td>\n",
              "      <td>NaN</td>\n",
              "      <td>NaN</td>\n",
              "      <td>NaN</td>\n",
              "      <td>NaN</td>\n",
              "      <td>NaN</td>\n",
              "      <td>NaN</td>\n",
              "      <td>NaN</td>\n",
              "      <td>NaN</td>\n",
              "      <td>NaN</td>\n",
              "      <td>NaN</td>\n",
              "      <td>NaN</td>\n",
              "      <td>NaN</td>\n",
              "      <td>NaN</td>\n",
              "      <td>NaN</td>\n",
              "      <td>NaN</td>\n",
              "      <td>NaN</td>\n",
              "      <td>NaN</td>\n",
              "      <td>NaN</td>\n",
              "      <td>NaN</td>\n",
              "      <td>NaN</td>\n",
              "      <td>NaN</td>\n",
              "      <td>NaN</td>\n",
              "      <td>NaN</td>\n",
              "      <td>NaN</td>\n",
              "      <td>NaN</td>\n",
              "      <td>NaN</td>\n",
              "      <td>NaN</td>\n",
              "      <td>NaN</td>\n",
              "      <td>NaN</td>\n",
              "      <td>NaN</td>\n",
              "      <td>NaN</td>\n",
              "      <td>NaN</td>\n",
              "      <td>NaN</td>\n",
              "      <td>NaN</td>\n",
              "      <td>NaN</td>\n",
              "      <td>NaN</td>\n",
              "      <td>NaN</td>\n",
              "      <td>NaN</td>\n",
              "    </tr>\n",
              "    <tr>\n",
              "      <th>2</th>\n",
              "      <td>I am a developer by profession</td>\n",
              "      <td>Employed, full-time</td>\n",
              "      <td>Fully remote</td>\n",
              "      <td>Hobby;Contribute to open-source projects</td>\n",
              "      <td>NaN</td>\n",
              "      <td>NaN</td>\n",
              "      <td>NaN</td>\n",
              "      <td>NaN</td>\n",
              "      <td>NaN</td>\n",
              "      <td>NaN</td>\n",
              "      <td>NaN</td>\n",
              "      <td>NaN</td>\n",
              "      <td>NaN</td>\n",
              "      <td>NaN</td>\n",
              "      <td>Canada</td>\n",
              "      <td>CAD\\tCanadian dollar</td>\n",
              "      <td>NaN</td>\n",
              "      <td>NaN</td>\n",
              "      <td>JavaScript;TypeScript</td>\n",
              "      <td>Rust;TypeScript</td>\n",
              "      <td>NaN</td>\n",
              "      <td>NaN</td>\n",
              "      <td>NaN</td>\n",
              "      <td>NaN</td>\n",
              "      <td>NaN</td>\n",
              "      <td>NaN</td>\n",
              "      <td>NaN</td>\n",
              "      <td>NaN</td>\n",
              "      <td>NaN</td>\n",
              "      <td>NaN</td>\n",
              "      <td>NaN</td>\n",
              "      <td>NaN</td>\n",
              "      <td>macOS</td>\n",
              "      <td>Windows Subsystem for Linux (WSL)</td>\n",
              "      <td>Git</td>\n",
              "      <td>NaN</td>\n",
              "      <td>NaN</td>\n",
              "      <td>NaN</td>\n",
              "      <td>NaN</td>\n",
              "      <td>NaN</td>\n",
              "      <td>NaN</td>\n",
              "      <td>NaN</td>\n",
              "      <td>Very unfavorable</td>\n",
              "      <td>Collectives on Stack Overflow;Stack Overflow for Teams (private knowledge sharing &amp; collaboratio...</td>\n",
              "      <td>Daily or almost daily</td>\n",
              "      <td>Yes</td>\n",
              "      <td>Daily or almost daily</td>\n",
              "      <td>Not sure</td>\n",
              "      <td>NaN</td>\n",
              "      <td>NaN</td>\n",
              "      <td>NaN</td>\n",
              "      <td>NaN</td>\n",
              "      <td>NaN</td>\n",
              "      <td>NaN</td>\n",
              "      <td>NaN</td>\n",
              "      <td>No</td>\n",
              "      <td>NaN</td>\n",
              "      <td>NaN</td>\n",
              "      <td>NaN</td>\n",
              "      <td>NaN</td>\n",
              "      <td>NaN</td>\n",
              "      <td>NaN</td>\n",
              "      <td>NaN</td>\n",
              "      <td>NaN</td>\n",
              "      <td>NaN</td>\n",
              "      <td>NaN</td>\n",
              "      <td>NaN</td>\n",
              "      <td>NaN</td>\n",
              "      <td>NaN</td>\n",
              "      <td>NaN</td>\n",
              "      <td>NaN</td>\n",
              "      <td>NaN</td>\n",
              "      <td>NaN</td>\n",
              "      <td>NaN</td>\n",
              "      <td>NaN</td>\n",
              "      <td>Too long</td>\n",
              "      <td>Difficult</td>\n",
              "      <td>NaN</td>\n",
              "    </tr>\n",
              "    <tr>\n",
              "      <th>3</th>\n",
              "      <td>I am not primarily a developer, but I write code sometimes as part of my work</td>\n",
              "      <td>Employed, full-time</td>\n",
              "      <td>Hybrid (some remote, some in-person)</td>\n",
              "      <td>Hobby</td>\n",
              "      <td>Master’s degree (M.A., M.S., M.Eng., MBA, etc.)</td>\n",
              "      <td>Books / Physical media;Friend or family member;Other online resources (e.g., videos, blogs, foru...</td>\n",
              "      <td>Technical documentation;Blogs;Programming Games;Written Tutorials;Stack Overflow</td>\n",
              "      <td>NaN</td>\n",
              "      <td>14</td>\n",
              "      <td>5</td>\n",
              "      <td>Data scientist or machine learning specialist;Developer, front-end;Engineer, data;Engineer, site...</td>\n",
              "      <td>20 to 99 employees</td>\n",
              "      <td>I have some influence</td>\n",
              "      <td>NaN</td>\n",
              "      <td>United Kingdom of Great Britain and Northern Ireland</td>\n",
              "      <td>GBP\\tPound sterling</td>\n",
              "      <td>32000.0</td>\n",
              "      <td>Yearly</td>\n",
              "      <td>C#;C++;HTML/CSS;JavaScript;Python</td>\n",
              "      <td>C#;C++;HTML/CSS;JavaScript;TypeScript</td>\n",
              "      <td>Microsoft SQL Server</td>\n",
              "      <td>Microsoft SQL Server</td>\n",
              "      <td>NaN</td>\n",
              "      <td>NaN</td>\n",
              "      <td>Angular.js</td>\n",
              "      <td>Angular;Angular.js</td>\n",
              "      <td>Pandas</td>\n",
              "      <td>.NET</td>\n",
              "      <td>NaN</td>\n",
              "      <td>NaN</td>\n",
              "      <td>Notepad++;Visual Studio</td>\n",
              "      <td>Notepad++;Visual Studio</td>\n",
              "      <td>Windows</td>\n",
              "      <td>Windows</td>\n",
              "      <td>Git</td>\n",
              "      <td>Code editor</td>\n",
              "      <td>NaN</td>\n",
              "      <td>NaN</td>\n",
              "      <td>NaN</td>\n",
              "      <td>NaN</td>\n",
              "      <td>Microsoft Teams</td>\n",
              "      <td>Microsoft Teams</td>\n",
              "      <td>Very unfavorable</td>\n",
              "      <td>Collectives on Stack Overflow;Stack Overflow;Stack Exchange</td>\n",
              "      <td>Multiple times per day</td>\n",
              "      <td>Yes</td>\n",
              "      <td>Multiple times per day</td>\n",
              "      <td>Neutral</td>\n",
              "      <td>25-34 years old</td>\n",
              "      <td>Man</td>\n",
              "      <td>No</td>\n",
              "      <td>Bisexual</td>\n",
              "      <td>White</td>\n",
              "      <td>None of the above</td>\n",
              "      <td>I have a mood or emotional disorder (e.g., depression, bipolar disorder, etc.);I have an anxiety...</td>\n",
              "      <td>No</td>\n",
              "      <td>NaN</td>\n",
              "      <td>NaN</td>\n",
              "      <td>NaN</td>\n",
              "      <td>NaN</td>\n",
              "      <td>NaN</td>\n",
              "      <td>NaN</td>\n",
              "      <td>NaN</td>\n",
              "      <td>NaN</td>\n",
              "      <td>NaN</td>\n",
              "      <td>NaN</td>\n",
              "      <td>NaN</td>\n",
              "      <td>NaN</td>\n",
              "      <td>NaN</td>\n",
              "      <td>NaN</td>\n",
              "      <td>NaN</td>\n",
              "      <td>NaN</td>\n",
              "      <td>NaN</td>\n",
              "      <td>NaN</td>\n",
              "      <td>NaN</td>\n",
              "      <td>Appropriate in length</td>\n",
              "      <td>Neither easy nor difficult</td>\n",
              "      <td>40205.0</td>\n",
              "    </tr>\n",
              "    <tr>\n",
              "      <th>4</th>\n",
              "      <td>I am a developer by profession</td>\n",
              "      <td>Employed, full-time</td>\n",
              "      <td>Fully remote</td>\n",
              "      <td>I don’t code outside of work</td>\n",
              "      <td>Bachelor’s degree (B.A., B.S., B.Eng., etc.)</td>\n",
              "      <td>Books / Physical media;School (i.e., University, College, etc)</td>\n",
              "      <td>NaN</td>\n",
              "      <td>NaN</td>\n",
              "      <td>20</td>\n",
              "      <td>17</td>\n",
              "      <td>Developer, full-stack</td>\n",
              "      <td>100 to 499 employees</td>\n",
              "      <td>I have some influence</td>\n",
              "      <td>Other (please specify):</td>\n",
              "      <td>Israel</td>\n",
              "      <td>ILS\\tIsraeli new shekel</td>\n",
              "      <td>60000.0</td>\n",
              "      <td>Monthly</td>\n",
              "      <td>C#;JavaScript;SQL;TypeScript</td>\n",
              "      <td>C#;SQL;TypeScript</td>\n",
              "      <td>Microsoft SQL Server</td>\n",
              "      <td>Microsoft SQL Server</td>\n",
              "      <td>NaN</td>\n",
              "      <td>NaN</td>\n",
              "      <td>ASP.NET;ASP.NET Core</td>\n",
              "      <td>ASP.NET;ASP.NET Core</td>\n",
              "      <td>.NET</td>\n",
              "      <td>.NET</td>\n",
              "      <td>NaN</td>\n",
              "      <td>NaN</td>\n",
              "      <td>Notepad++;Visual Studio;Visual Studio Code</td>\n",
              "      <td>Notepad++;Visual Studio;Visual Studio Code</td>\n",
              "      <td>Windows</td>\n",
              "      <td>Windows</td>\n",
              "      <td>Git</td>\n",
              "      <td>Code editor;Command-line;Version control hosting service web GUI;Dedicated version control GUI a...</td>\n",
              "      <td>NaN</td>\n",
              "      <td>NaN</td>\n",
              "      <td>Jira Work Management;Trello</td>\n",
              "      <td>Jira Work Management;Trello</td>\n",
              "      <td>Slack;Zoom</td>\n",
              "      <td>Slack;Zoom</td>\n",
              "      <td>Very unfavorable</td>\n",
              "      <td>Collectives on Stack Overflow;Stack Overflow for Teams (private knowledge sharing &amp; collaboratio...</td>\n",
              "      <td>Daily or almost daily</td>\n",
              "      <td>Yes</td>\n",
              "      <td>A few times per week</td>\n",
              "      <td>Yes, definitely</td>\n",
              "      <td>35-44 years old</td>\n",
              "      <td>Man</td>\n",
              "      <td>No</td>\n",
              "      <td>Straight / Heterosexual</td>\n",
              "      <td>White</td>\n",
              "      <td>None of the above</td>\n",
              "      <td>None of the above</td>\n",
              "      <td>No</td>\n",
              "      <td>NaN</td>\n",
              "      <td>NaN</td>\n",
              "      <td>NaN</td>\n",
              "      <td>NaN</td>\n",
              "      <td>NaN</td>\n",
              "      <td>NaN</td>\n",
              "      <td>NaN</td>\n",
              "      <td>NaN</td>\n",
              "      <td>NaN</td>\n",
              "      <td>NaN</td>\n",
              "      <td>NaN</td>\n",
              "      <td>NaN</td>\n",
              "      <td>NaN</td>\n",
              "      <td>NaN</td>\n",
              "      <td>NaN</td>\n",
              "      <td>NaN</td>\n",
              "      <td>NaN</td>\n",
              "      <td>NaN</td>\n",
              "      <td>NaN</td>\n",
              "      <td>Appropriate in length</td>\n",
              "      <td>Easy</td>\n",
              "      <td>215232.0</td>\n",
              "    </tr>\n",
              "    <tr>\n",
              "      <th>5</th>\n",
              "      <td>I am a developer by profession</td>\n",
              "      <td>Employed, full-time</td>\n",
              "      <td>Hybrid (some remote, some in-person)</td>\n",
              "      <td>Hobby</td>\n",
              "      <td>Bachelor’s degree (B.A., B.S., B.Eng., etc.)</td>\n",
              "      <td>Other online resources (e.g., videos, blogs, forum);School (i.e., University, College, etc);On t...</td>\n",
              "      <td>Technical documentation;Blogs;Stack Overflow;Online books;Video-based Online Courses;Online chal...</td>\n",
              "      <td>NaN</td>\n",
              "      <td>8</td>\n",
              "      <td>3</td>\n",
              "      <td>Developer, front-end;Developer, full-stack;Developer, back-end;Developer, desktop or enterprise ...</td>\n",
              "      <td>20 to 99 employees</td>\n",
              "      <td>I have some influence</td>\n",
              "      <td>Start a free trial;Visit developer communities like Stack Overflow</td>\n",
              "      <td>United States of America</td>\n",
              "      <td>USD\\tUnited States dollar</td>\n",
              "      <td>NaN</td>\n",
              "      <td>NaN</td>\n",
              "      <td>C#;HTML/CSS;JavaScript;SQL;Swift;TypeScript</td>\n",
              "      <td>C#;Elixir;F#;Go;JavaScript;Rust;TypeScript</td>\n",
              "      <td>Cloud Firestore;Elasticsearch;Microsoft SQL Server;Firebase Realtime Database</td>\n",
              "      <td>Cloud Firestore;Elasticsearch;Firebase Realtime Database;Redis</td>\n",
              "      <td>Firebase;Microsoft Azure</td>\n",
              "      <td>Firebase;Microsoft Azure</td>\n",
              "      <td>Angular;ASP.NET;ASP.NET Core ;jQuery;Node.js</td>\n",
              "      <td>Angular;ASP.NET Core ;Blazor;Node.js</td>\n",
              "      <td>.NET</td>\n",
              "      <td>.NET;Apache Kafka</td>\n",
              "      <td>npm</td>\n",
              "      <td>Docker;Kubernetes</td>\n",
              "      <td>Notepad++;Visual Studio;Visual Studio Code;Xcode</td>\n",
              "      <td>Rider;Visual Studio;Visual Studio Code</td>\n",
              "      <td>Windows</td>\n",
              "      <td>macOS;Windows</td>\n",
              "      <td>Git;Other (please specify):</td>\n",
              "      <td>Code editor</td>\n",
              "      <td>NaN</td>\n",
              "      <td>NaN</td>\n",
              "      <td>NaN</td>\n",
              "      <td>NaN</td>\n",
              "      <td>Microsoft Teams;Zoom</td>\n",
              "      <td>NaN</td>\n",
              "      <td>Unfavorable</td>\n",
              "      <td>Collectives on Stack Overflow;Stack Overflow for Teams (private knowledge sharing &amp; collaboratio...</td>\n",
              "      <td>Multiple times per day</td>\n",
              "      <td>Yes</td>\n",
              "      <td>Daily or almost daily</td>\n",
              "      <td>Yes, definitely</td>\n",
              "      <td>25-34 years old</td>\n",
              "      <td>NaN</td>\n",
              "      <td>NaN</td>\n",
              "      <td>NaN</td>\n",
              "      <td>NaN</td>\n",
              "      <td>NaN</td>\n",
              "      <td>NaN</td>\n",
              "      <td>No</td>\n",
              "      <td>NaN</td>\n",
              "      <td>NaN</td>\n",
              "      <td>NaN</td>\n",
              "      <td>NaN</td>\n",
              "      <td>NaN</td>\n",
              "      <td>NaN</td>\n",
              "      <td>NaN</td>\n",
              "      <td>NaN</td>\n",
              "      <td>NaN</td>\n",
              "      <td>NaN</td>\n",
              "      <td>NaN</td>\n",
              "      <td>NaN</td>\n",
              "      <td>NaN</td>\n",
              "      <td>NaN</td>\n",
              "      <td>NaN</td>\n",
              "      <td>NaN</td>\n",
              "      <td>NaN</td>\n",
              "      <td>NaN</td>\n",
              "      <td>NaN</td>\n",
              "      <td>Too long</td>\n",
              "      <td>Easy</td>\n",
              "      <td>NaN</td>\n",
              "    </tr>\n",
              "  </tbody>\n",
              "</table>\n",
              "</div>\n",
              "      <button class=\"colab-df-convert\" onclick=\"convertToInteractive('df-d512351a-b98b-45ae-9314-6fd70679a4c2')\"\n",
              "              title=\"Convert this dataframe to an interactive table.\"\n",
              "              style=\"display:none;\">\n",
              "        \n",
              "  <svg xmlns=\"http://www.w3.org/2000/svg\" height=\"24px\"viewBox=\"0 0 24 24\"\n",
              "       width=\"24px\">\n",
              "    <path d=\"M0 0h24v24H0V0z\" fill=\"none\"/>\n",
              "    <path d=\"M18.56 5.44l.94 2.06.94-2.06 2.06-.94-2.06-.94-.94-2.06-.94 2.06-2.06.94zm-11 1L8.5 8.5l.94-2.06 2.06-.94-2.06-.94L8.5 2.5l-.94 2.06-2.06.94zm10 10l.94 2.06.94-2.06 2.06-.94-2.06-.94-.94-2.06-.94 2.06-2.06.94z\"/><path d=\"M17.41 7.96l-1.37-1.37c-.4-.4-.92-.59-1.43-.59-.52 0-1.04.2-1.43.59L10.3 9.45l-7.72 7.72c-.78.78-.78 2.05 0 2.83L4 21.41c.39.39.9.59 1.41.59.51 0 1.02-.2 1.41-.59l7.78-7.78 2.81-2.81c.8-.78.8-2.07 0-2.86zM5.41 20L4 18.59l7.72-7.72 1.47 1.35L5.41 20z\"/>\n",
              "  </svg>\n",
              "      </button>\n",
              "      \n",
              "  <style>\n",
              "    .colab-df-container {\n",
              "      display:flex;\n",
              "      flex-wrap:wrap;\n",
              "      gap: 12px;\n",
              "    }\n",
              "\n",
              "    .colab-df-convert {\n",
              "      background-color: #E8F0FE;\n",
              "      border: none;\n",
              "      border-radius: 50%;\n",
              "      cursor: pointer;\n",
              "      display: none;\n",
              "      fill: #1967D2;\n",
              "      height: 32px;\n",
              "      padding: 0 0 0 0;\n",
              "      width: 32px;\n",
              "    }\n",
              "\n",
              "    .colab-df-convert:hover {\n",
              "      background-color: #E2EBFA;\n",
              "      box-shadow: 0px 1px 2px rgba(60, 64, 67, 0.3), 0px 1px 3px 1px rgba(60, 64, 67, 0.15);\n",
              "      fill: #174EA6;\n",
              "    }\n",
              "\n",
              "    [theme=dark] .colab-df-convert {\n",
              "      background-color: #3B4455;\n",
              "      fill: #D2E3FC;\n",
              "    }\n",
              "\n",
              "    [theme=dark] .colab-df-convert:hover {\n",
              "      background-color: #434B5C;\n",
              "      box-shadow: 0px 1px 3px 1px rgba(0, 0, 0, 0.15);\n",
              "      filter: drop-shadow(0px 1px 2px rgba(0, 0, 0, 0.3));\n",
              "      fill: #FFFFFF;\n",
              "    }\n",
              "  </style>\n",
              "\n",
              "      <script>\n",
              "        const buttonEl =\n",
              "          document.querySelector('#df-d512351a-b98b-45ae-9314-6fd70679a4c2 button.colab-df-convert');\n",
              "        buttonEl.style.display =\n",
              "          google.colab.kernel.accessAllowed ? 'block' : 'none';\n",
              "\n",
              "        async function convertToInteractive(key) {\n",
              "          const element = document.querySelector('#df-d512351a-b98b-45ae-9314-6fd70679a4c2');\n",
              "          const dataTable =\n",
              "            await google.colab.kernel.invokeFunction('convertToInteractive',\n",
              "                                                     [key], {});\n",
              "          if (!dataTable) return;\n",
              "\n",
              "          const docLinkHtml = 'Like what you see? Visit the ' +\n",
              "            '<a target=\"_blank\" href=https://colab.research.google.com/notebooks/data_table.ipynb>data table notebook</a>'\n",
              "            + ' to learn more about interactive tables.';\n",
              "          element.innerHTML = '';\n",
              "          dataTable['output_type'] = 'display_data';\n",
              "          await google.colab.output.renderOutput(dataTable, element);\n",
              "          const docLink = document.createElement('div');\n",
              "          docLink.innerHTML = docLinkHtml;\n",
              "          element.appendChild(docLink);\n",
              "        }\n",
              "      </script>\n",
              "    </div>\n",
              "  </div>\n",
              "  "
            ]
          },
          "metadata": {},
          "execution_count": 198
        }
      ]
    },
    {
      "cell_type": "markdown",
      "source": [
        "### Dữ liệu có bao nhiêu dòng và bao nhiêu cột? - Điểm: (0.25đ)\n",
        "\n",
        "Kế đến, bạn tính số dòng và số cột của DataFrame `survey_df` và lưu vào biến `shape` (tuple). "
      ],
      "metadata": {
        "id": "d4WgpZqRt4oj"
      }
    },
    {
      "cell_type": "code",
      "source": [
        "shape=survey_df.shape"
      ],
      "metadata": {
        "id": "B_21JQDut5ll"
      },
      "execution_count": 199,
      "outputs": []
    },
    {
      "cell_type": "code",
      "source": [
        "# TEST\n",
        "assert shape == (73268, 78)"
      ],
      "metadata": {
        "id": "MaqmN0NLuJv8"
      },
      "execution_count": 200,
      "outputs": []
    },
    {
      "cell_type": "markdown",
      "source": [
        "### Mỗi dòng có ý nghĩa gì? Có vấn đề các dòng có ý nghĩa khác nhau không?\n",
        "\n",
        "Theo file \"README_2021.txt\" cũng như theo quan sát sơ bộ về dữ liệu, mỗi dòng trong DataFrame `survey_df` cho biết kết quả làm khảo sát của một người. Có vẻ không có vấn đề các dòng có ý nghĩa khác nhau (lúc sau, nếu phát hiện ra vấn đề thì ta sẽ quay lại đây). "
      ],
      "metadata": {
        "id": "ysYtZ471utCh"
      }
    },
    {
      "cell_type": "markdown",
      "source": [
        "### Dữ liệu có các dòng bị lặp không? - Điểm: (0.25đ)\n",
        "\n",
        "Kế đến, bạn tính số dòng có index (id của người làm khảo sát) bị lặp và lưu vào biến `num_duplicated_rows`. Trong nhóm các dòng có index giống nhau thì dòng đầu tiên không tính là bị lặp."
      ],
      "metadata": {
        "id": "1QpXVdQFutva"
      }
    },
    {
      "cell_type": "code",
      "source": [
        "num_duplicated_rows=len([i for i in survey_df.index.duplicated(keep='first') if i==True])"
      ],
      "metadata": {
        "id": "mauGVKqdvKHL"
      },
      "execution_count": 201,
      "outputs": []
    },
    {
      "cell_type": "code",
      "source": [
        "# TEST\n",
        "assert num_duplicated_rows == 0"
      ],
      "metadata": {
        "id": "zl1W7PpPyaKi"
      },
      "execution_count": 202,
      "outputs": []
    },
    {
      "cell_type": "markdown",
      "source": [
        "### Mỗi cột có ý nghĩa gì? - Điểm: (0.25đ)\n",
        "\n",
        "Để xem ý nghĩa của mỗi cột thì:\n",
        "- Trước tiên, bạn cần đọc file \"survey_results_schema.csv\" vào DataFrame `col_meaning_df`; bạn cần chọn hai cột hai la \"qname\" và \"question\"; bạn cũng cần cho cột \"qname\" làm cột index và cột \"question\" làm giá trị\n",
        "- Sau đó, bạn chỉ cần hiển thị DataFrame `col_meaning_df` ra để xem (vụ này khó nên ở dưới mình đã làm cho bạn ở cell có dòng \"# TEST\" 😉). Tuy nhiên, bạn sẽ thấy ở cột \"QuestionText\": các chuỗi mô tả bị cắt do quá dài. Do đó, trước khi hiển thị DataFrame `col_meaning_df`, bạn cũng cần chỉnh sao đó để các chuỗi mô tả không bị cắt (vụ này bạn tự search Google, gợi ý: bạn sẽ dùng đến câu lệnh `pd.set_option`).   "
      ],
      "metadata": {
        "id": "n9ByWi9eyb_e"
      }
    },
    {
      "cell_type": "code",
      "source": [
        "survey_df.columns"
      ],
      "metadata": {
        "colab": {
          "base_uri": "https://localhost:8080/"
        },
        "id": "jzItJPiyydna",
        "outputId": "3e77a0a6-c8ae-4311-a3ba-e6fbd9db0d11"
      },
      "execution_count": 203,
      "outputs": [
        {
          "output_type": "execute_result",
          "data": {
            "text/plain": [
              "Index(['MainBranch', 'Employment', 'RemoteWork', 'CodingActivities', 'EdLevel',\n",
              "       'LearnCode', 'LearnCodeOnline', 'LearnCodeCoursesCert', 'YearsCode',\n",
              "       'YearsCodePro', 'DevType', 'OrgSize', 'PurchaseInfluence', 'BuyNewTool',\n",
              "       'Country', 'Currency', 'CompTotal', 'CompFreq',\n",
              "       'LanguageHaveWorkedWith', 'LanguageWantToWorkWith',\n",
              "       'DatabaseHaveWorkedWith', 'DatabaseWantToWorkWith',\n",
              "       'PlatformHaveWorkedWith', 'PlatformWantToWorkWith',\n",
              "       'WebframeHaveWorkedWith', 'WebframeWantToWorkWith',\n",
              "       'MiscTechHaveWorkedWith', 'MiscTechWantToWorkWith',\n",
              "       'ToolsTechHaveWorkedWith', 'ToolsTechWantToWorkWith',\n",
              "       'NEWCollabToolsHaveWorkedWith', 'NEWCollabToolsWantToWorkWith',\n",
              "       'OpSysProfessional use', 'OpSysPersonal use', 'VersionControlSystem',\n",
              "       'VCInteraction', 'VCHostingPersonal use', 'VCHostingProfessional use',\n",
              "       'OfficeStackAsyncHaveWorkedWith', 'OfficeStackAsyncWantToWorkWith',\n",
              "       'OfficeStackSyncHaveWorkedWith', 'OfficeStackSyncWantToWorkWith',\n",
              "       'Blockchain', 'NEWSOSites', 'SOVisitFreq', 'SOAccount', 'SOPartFreq',\n",
              "       'SOComm', 'Age', 'Gender', 'Trans', 'Sexuality', 'Ethnicity',\n",
              "       'Accessibility', 'MentalHealth', 'TBranch', 'ICorPM', 'WorkExp',\n",
              "       'Knowledge_1', 'Knowledge_2', 'Knowledge_3', 'Knowledge_4',\n",
              "       'Knowledge_5', 'Knowledge_6', 'Knowledge_7', 'Frequency_1',\n",
              "       'Frequency_2', 'Frequency_3', 'TimeSearching', 'TimeAnswering',\n",
              "       'Onboarding', 'ProfessionalTech', 'TrueFalse_1', 'TrueFalse_2',\n",
              "       'TrueFalse_3', 'SurveyLength', 'SurveyEase', 'ConvertedCompYearly'],\n",
              "      dtype='object')"
            ]
          },
          "metadata": {},
          "execution_count": 203
        }
      ]
    },
    {
      "cell_type": "code",
      "source": [
        "col_meaning_df=(pd.read_csv('./data/2022/survey_results_schema.csv',index_col='qname',usecols=['qname','question']))\n",
        "pd.set_option('display.max_colwidth', None)"
      ],
      "metadata": {
        "id": "5W0qzmiMymHy"
      },
      "execution_count": 204,
      "outputs": []
    },
    {
      "cell_type": "code",
      "source": [
        "# TEST\n",
        "col_meaning_df.head()"
      ],
      "metadata": {
        "colab": {
          "base_uri": "https://localhost:8080/",
          "height": 299
        },
        "id": "xvXIkUefzfB1",
        "outputId": "c30cd43c-7edf-4702-f8d4-e618c65ac91a"
      },
      "execution_count": 205,
      "outputs": [
        {
          "output_type": "execute_result",
          "data": {
            "text/plain": [
              "                                                                                                                                                                                                                                                                                                                                                                                                 question\n",
              "qname                                                                                                                                                                                                                                                                                                                                                                                                    \n",
              "S1                <span style=\"font-size:22px; font-family: arial,helvetica,sans-serif; font-weight: 700;\">Basic Information</span><br>\\n<br>\\n<p><span style=\"font-size:16px; font-family:arial,helvetica,sans-serif;\">The first section will focus on some basic information about who you are.<br>\\n<br>\\nMost questions in this section are required. Required questions are noted with *.</span></p>\n",
              "MainBranch                                                                                                                                                                                                                                                                      Which of the following options best describes you today? Here, by \"developer\" we mean \"someone who writes code.\" <b>*</b>\n",
              "Employment                                                                                                                                                                                                                                                                                                                          Which of the following best describes your current employment status?\n",
              "RemoteWork                                                                                                                                                                                                                                                                                                                                              Which best describes your current work situation?\n",
              "CodingActivities                                                                                                                                                                                                                                                                                         Which of the following best describes the code you write outside of work? Select all that apply."
            ],
            "text/html": [
              "\n",
              "  <div id=\"df-1e7af632-59c7-4efd-8a50-6210a16bf50d\">\n",
              "    <div class=\"colab-df-container\">\n",
              "      <div>\n",
              "<style scoped>\n",
              "    .dataframe tbody tr th:only-of-type {\n",
              "        vertical-align: middle;\n",
              "    }\n",
              "\n",
              "    .dataframe tbody tr th {\n",
              "        vertical-align: top;\n",
              "    }\n",
              "\n",
              "    .dataframe thead th {\n",
              "        text-align: right;\n",
              "    }\n",
              "</style>\n",
              "<table border=\"1\" class=\"dataframe\">\n",
              "  <thead>\n",
              "    <tr style=\"text-align: right;\">\n",
              "      <th></th>\n",
              "      <th>question</th>\n",
              "    </tr>\n",
              "    <tr>\n",
              "      <th>qname</th>\n",
              "      <th></th>\n",
              "    </tr>\n",
              "  </thead>\n",
              "  <tbody>\n",
              "    <tr>\n",
              "      <th>S1</th>\n",
              "      <td>&lt;span style=\"font-size:22px; font-family: arial,helvetica,sans-serif; font-weight: 700;\"&gt;Basic Information&lt;/span&gt;&lt;br&gt;\\n&lt;br&gt;\\n&lt;p&gt;&lt;span style=\"font-size:16px; font-family:arial,helvetica,sans-serif;\"&gt;The first section will focus on some basic information about who you are.&lt;br&gt;\\n&lt;br&gt;\\nMost questions in this section are required. Required questions are noted with *.&lt;/span&gt;&lt;/p&gt;</td>\n",
              "    </tr>\n",
              "    <tr>\n",
              "      <th>MainBranch</th>\n",
              "      <td>Which of the following options best describes you today? Here, by \"developer\" we mean \"someone who writes code.\" &lt;b&gt;*&lt;/b&gt;</td>\n",
              "    </tr>\n",
              "    <tr>\n",
              "      <th>Employment</th>\n",
              "      <td>Which of the following best describes your current employment status?</td>\n",
              "    </tr>\n",
              "    <tr>\n",
              "      <th>RemoteWork</th>\n",
              "      <td>Which best describes your current work situation?</td>\n",
              "    </tr>\n",
              "    <tr>\n",
              "      <th>CodingActivities</th>\n",
              "      <td>Which of the following best describes the code you write outside of work? Select all that apply.</td>\n",
              "    </tr>\n",
              "  </tbody>\n",
              "</table>\n",
              "</div>\n",
              "      <button class=\"colab-df-convert\" onclick=\"convertToInteractive('df-1e7af632-59c7-4efd-8a50-6210a16bf50d')\"\n",
              "              title=\"Convert this dataframe to an interactive table.\"\n",
              "              style=\"display:none;\">\n",
              "        \n",
              "  <svg xmlns=\"http://www.w3.org/2000/svg\" height=\"24px\"viewBox=\"0 0 24 24\"\n",
              "       width=\"24px\">\n",
              "    <path d=\"M0 0h24v24H0V0z\" fill=\"none\"/>\n",
              "    <path d=\"M18.56 5.44l.94 2.06.94-2.06 2.06-.94-2.06-.94-.94-2.06-.94 2.06-2.06.94zm-11 1L8.5 8.5l.94-2.06 2.06-.94-2.06-.94L8.5 2.5l-.94 2.06-2.06.94zm10 10l.94 2.06.94-2.06 2.06-.94-2.06-.94-.94-2.06-.94 2.06-2.06.94z\"/><path d=\"M17.41 7.96l-1.37-1.37c-.4-.4-.92-.59-1.43-.59-.52 0-1.04.2-1.43.59L10.3 9.45l-7.72 7.72c-.78.78-.78 2.05 0 2.83L4 21.41c.39.39.9.59 1.41.59.51 0 1.02-.2 1.41-.59l7.78-7.78 2.81-2.81c.8-.78.8-2.07 0-2.86zM5.41 20L4 18.59l7.72-7.72 1.47 1.35L5.41 20z\"/>\n",
              "  </svg>\n",
              "      </button>\n",
              "      \n",
              "  <style>\n",
              "    .colab-df-container {\n",
              "      display:flex;\n",
              "      flex-wrap:wrap;\n",
              "      gap: 12px;\n",
              "    }\n",
              "\n",
              "    .colab-df-convert {\n",
              "      background-color: #E8F0FE;\n",
              "      border: none;\n",
              "      border-radius: 50%;\n",
              "      cursor: pointer;\n",
              "      display: none;\n",
              "      fill: #1967D2;\n",
              "      height: 32px;\n",
              "      padding: 0 0 0 0;\n",
              "      width: 32px;\n",
              "    }\n",
              "\n",
              "    .colab-df-convert:hover {\n",
              "      background-color: #E2EBFA;\n",
              "      box-shadow: 0px 1px 2px rgba(60, 64, 67, 0.3), 0px 1px 3px 1px rgba(60, 64, 67, 0.15);\n",
              "      fill: #174EA6;\n",
              "    }\n",
              "\n",
              "    [theme=dark] .colab-df-convert {\n",
              "      background-color: #3B4455;\n",
              "      fill: #D2E3FC;\n",
              "    }\n",
              "\n",
              "    [theme=dark] .colab-df-convert:hover {\n",
              "      background-color: #434B5C;\n",
              "      box-shadow: 0px 1px 3px 1px rgba(0, 0, 0, 0.15);\n",
              "      filter: drop-shadow(0px 1px 2px rgba(0, 0, 0, 0.3));\n",
              "      fill: #FFFFFF;\n",
              "    }\n",
              "  </style>\n",
              "\n",
              "      <script>\n",
              "        const buttonEl =\n",
              "          document.querySelector('#df-1e7af632-59c7-4efd-8a50-6210a16bf50d button.colab-df-convert');\n",
              "        buttonEl.style.display =\n",
              "          google.colab.kernel.accessAllowed ? 'block' : 'none';\n",
              "\n",
              "        async function convertToInteractive(key) {\n",
              "          const element = document.querySelector('#df-1e7af632-59c7-4efd-8a50-6210a16bf50d');\n",
              "          const dataTable =\n",
              "            await google.colab.kernel.invokeFunction('convertToInteractive',\n",
              "                                                     [key], {});\n",
              "          if (!dataTable) return;\n",
              "\n",
              "          const docLinkHtml = 'Like what you see? Visit the ' +\n",
              "            '<a target=\"_blank\" href=https://colab.research.google.com/notebooks/data_table.ipynb>data table notebook</a>'\n",
              "            + ' to learn more about interactive tables.';\n",
              "          element.innerHTML = '';\n",
              "          dataTable['output_type'] = 'display_data';\n",
              "          await google.colab.output.renderOutput(dataTable, element);\n",
              "          const docLink = document.createElement('div');\n",
              "          docLink.innerHTML = docLinkHtml;\n",
              "          element.appendChild(docLink);\n",
              "        }\n",
              "      </script>\n",
              "    </div>\n",
              "  </div>\n",
              "  "
            ]
          },
          "metadata": {},
          "execution_count": 205
        }
      ]
    },
    {
      "cell_type": "markdown",
      "source": [
        "Trước khi đi tiếp, bạn nên đọc kết quả hiển thị ở trên và đảm bảo là bạn đã hiểu ý nghĩa của các cột. Để hiểu ý nghĩa của cột, có thể bạn sẽ cần xem thêm các giá trị của cột bên DataFrame `survey_df`. "
      ],
      "metadata": {
        "id": "lamSvSTC0BLX"
      }
    },
    {
      "cell_type": "markdown",
      "source": [
        "### Chọn một số cột cần thiết - Điểm: (0.25đ)\n",
        "\n",
        "Bởi vì dữ liệu phản hồi khảo sát này chứa một lượng thông tin tương đối nhiều, thế nên chúng ta sẽ giới hạn lại những cột để việc phân tích khối dữ liệu trong bài Lab này được nhẹ nhàng hơn.\n",
        "\n",
        "Những cột mà chúng ta cần chọn sẽ bao gồm:\n",
        "- Thông tin chung: MainBranch\n",
        "- Những thông tin liên quan đến nơi cư trú của những người tham gia khảo sát: Country, Age, Gender, EdLevel, RemoteWork\n",
        "- Những thông tin liên quan đến kỹ năng lập trình, kinh nghiệm làm việc và một số sở thích: DevType, LearnCodeCoursesCert, LanguageHaveWorkedWith, LanguageWantToWorkWith, DatabaseHaveWorkedWith, DatabaseWantToWorkWith, PlatformHaveWorkedWith, PlatformWantToWorkWith, WebframeHaveWorkedWith, WebframeWantToWorkWith, MiscTechHaveWorkedWith, MiscTechWantToWorkWith, ToolsTechHaveWorkedWith, ToolsTechWantToWorkWith, NEWCollabToolsHaveWorkedWith, NEWCollabToolsWantToWorkWith, OpSysPersonal use, OfficeStackAsyncHaveWorkedWith, OfficeStackAsyncWantToWorkWith.\n",
        "- Những thông tin liên quan đến công việc: Employment, WorkExp, CompTotal, CompFreq, YearsCode, YearsCodePro, ConvertedCompYearly\n",
        "- Những thông tin liên quan đến việc sử dụng Stack Overflow: NEWSOSites, SOVisitFreq, SOAccount, SOPartFreq, SOComm"
      ],
      "metadata": {
        "id": "1_59sf0k0GdI"
      }
    },
    {
      "cell_type": "code",
      "source": [
        "Keep=['MainBranch',\n",
        "'Country', 'Age', 'Gender', 'EdLevel', 'RemoteWork',\n",
        "'DevType', 'LearnCodeCoursesCert', 'LanguageHaveWorkedWith', 'LanguageWantToWorkWith', 'DatabaseHaveWorkedWith',\n",
        "'DatabaseWantToWorkWith', 'PlatformHaveWorkedWith', 'PlatformWantToWorkWith', 'WebframeHaveWorkedWith', 'WebframeWantToWorkWith', \n",
        "'MiscTechHaveWorkedWith', 'MiscTechWantToWorkWith', 'ToolsTechHaveWorkedWith', 'ToolsTechWantToWorkWith', 'NEWCollabToolsHaveWorkedWith', \n",
        "'NEWCollabToolsWantToWorkWith', 'OpSysPersonal use', 'OfficeStackAsyncHaveWorkedWith', 'OfficeStackAsyncWantToWorkWith',\n",
        "'Employment', 'WorkExp', 'CompTotal', 'CompFreq', 'YearsCode', 'YearsCodePro', 'ConvertedCompYearly',\n",
        "'NEWSOSites', 'SOVisitFreq', 'SOAccount', 'SOPartFreq', 'SOComm']\n",
        "NeedToRemove=[i for i in survey_df.columns if i not in Keep]\n",
        "survey_df=survey_df.drop(NeedToRemove, axis=1)\n",
        "shape=survey_df.shape"
      ],
      "metadata": {
        "id": "rzdpU5e-0JQu"
      },
      "execution_count": 206,
      "outputs": []
    },
    {
      "cell_type": "code",
      "source": [
        "# TEST\n",
        "assert shape == (73268, 37)"
      ],
      "metadata": {
        "id": "D1bg9J7N2t54"
      },
      "execution_count": 207,
      "outputs": []
    },
    {
      "cell_type": "markdown",
      "source": [
        "### Mỗi cột hiện đang có kiểu dữ liệu gì? Có cột nào có kiểu dữ liệu chưa phù hợp để có thể xử lý tiếp không? - Điểm: (0.25đ)"
      ],
      "metadata": {
        "id": "_I03MfEU3PZQ"
      }
    },
    {
      "cell_type": "markdown",
      "source": [
        "Kế đến, bạn tính kiểu dữ liệu (dtype) của mỗi cột trong DataFrame `survey_df` và lưu kết quả vào Series `dtypes` (Series này có index là tên cột). "
      ],
      "metadata": {
        "id": "e8wcbMUY3P6s"
      }
    },
    {
      "cell_type": "code",
      "source": [
        "survey_df.info()"
      ],
      "metadata": {
        "colab": {
          "base_uri": "https://localhost:8080/"
        },
        "id": "c6y5xoUD3Rnf",
        "outputId": "b68f5f26-c132-4448-bf29-3a94ed8d3be7"
      },
      "execution_count": 208,
      "outputs": [
        {
          "output_type": "stream",
          "name": "stdout",
          "text": [
            "<class 'pandas.core.frame.DataFrame'>\n",
            "Int64Index: 73268 entries, 1 to 73268\n",
            "Data columns (total 37 columns):\n",
            " #   Column                          Non-Null Count  Dtype  \n",
            "---  ------                          --------------  -----  \n",
            " 0   MainBranch                      73268 non-null  object \n",
            " 1   Employment                      71709 non-null  object \n",
            " 2   RemoteWork                      58958 non-null  object \n",
            " 3   EdLevel                         71571 non-null  object \n",
            " 4   LearnCodeCoursesCert            29389 non-null  object \n",
            " 5   YearsCode                       71331 non-null  object \n",
            " 6   YearsCodePro                    51833 non-null  object \n",
            " 7   DevType                         61302 non-null  object \n",
            " 8   Country                         71771 non-null  object \n",
            " 9   CompTotal                       38422 non-null  float64\n",
            " 10  CompFreq                        44425 non-null  object \n",
            " 11  LanguageHaveWorkedWith          70975 non-null  object \n",
            " 12  LanguageWantToWorkWith          67027 non-null  object \n",
            " 13  DatabaseHaveWorkedWith          60121 non-null  object \n",
            " 14  DatabaseWantToWorkWith          51014 non-null  object \n",
            " 15  PlatformHaveWorkedWith          49924 non-null  object \n",
            " 16  PlatformWantToWorkWith          40415 non-null  object \n",
            " 17  WebframeHaveWorkedWith          53544 non-null  object \n",
            " 18  WebframeWantToWorkWith          46122 non-null  object \n",
            " 19  MiscTechHaveWorkedWith          44992 non-null  object \n",
            " 20  MiscTechWantToWorkWith          36810 non-null  object \n",
            " 21  ToolsTechHaveWorkedWith         54171 non-null  object \n",
            " 22  ToolsTechWantToWorkWith         46566 non-null  object \n",
            " 23  NEWCollabToolsHaveWorkedWith    70347 non-null  object \n",
            " 24  NEWCollabToolsWantToWorkWith    64108 non-null  object \n",
            " 25  OpSysPersonal use               70963 non-null  object \n",
            " 26  OfficeStackAsyncHaveWorkedWith  46223 non-null  object \n",
            " 27  OfficeStackAsyncWantToWorkWith  32072 non-null  object \n",
            " 28  NEWSOSites                      71365 non-null  object \n",
            " 29  SOVisitFreq                     70961 non-null  object \n",
            " 30  SOAccount                       71572 non-null  object \n",
            " 31  SOPartFreq                      58229 non-null  object \n",
            " 32  SOComm                          71408 non-null  object \n",
            " 33  Age                             70946 non-null  object \n",
            " 34  Gender                          70853 non-null  object \n",
            " 35  WorkExp                         36769 non-null  float64\n",
            " 36  ConvertedCompYearly             38071 non-null  float64\n",
            "dtypes: float64(3), object(34)\n",
            "memory usage: 23.3+ MB\n"
          ]
        }
      ]
    },
    {
      "cell_type": "code",
      "source": [
        "dtypes = (pd.Series(data=survey_df.dtypes, index=survey_df.columns))"
      ],
      "metadata": {
        "id": "Affush_H3uVs"
      },
      "execution_count": 209,
      "outputs": []
    },
    {
      "cell_type": "code",
      "source": [
        "# TEST\n",
        "float_cols = set(dtypes[(dtypes==np.float32) | (dtypes==np.float64)].index)\n",
        "assert float_cols == {'WorkExp', 'CompTotal', 'ConvertedCompYearly'}\n",
        "object_cols = set(dtypes[dtypes == object].index)\n",
        "assert len(object_cols) == 34"
      ],
      "metadata": {
        "id": "_tUxHD63-CDa"
      },
      "execution_count": 210,
      "outputs": []
    },
    {
      "cell_type": "markdown",
      "source": [
        "Như bạn có thể thấy, cột \"YearsCode\" và \"YearsCodePro\" nên có kiểu dữ liệu số, nhưng hiện giờ đang có kiểu dữ liệu object. Ta hãy thử xem thêm về các giá trị 2 cột này. "
      ],
      "metadata": {
        "id": "6nHqnRCg-JCp"
      }
    },
    {
      "cell_type": "code",
      "source": [
        "survey_df['YearsCode'].unique()"
      ],
      "metadata": {
        "colab": {
          "base_uri": "https://localhost:8080/"
        },
        "id": "87zztTIM-LMS",
        "outputId": "2353d5c5-0e6a-4f89-d99d-4278e48d9423"
      },
      "execution_count": 211,
      "outputs": [
        {
          "output_type": "execute_result",
          "data": {
            "text/plain": [
              "array([nan, '14', '20', '8', '15', '3', '1', '6', '37', '5', '12', '22',\n",
              "       '11', '4', '7', '13', '36', '2', '25', '10', '40', '16', '27',\n",
              "       '24', '19', '9', '17', '18', '26', 'More than 50 years', '29',\n",
              "       '30', '32', 'Less than 1 year', '48', '45', '38', '39', '28', '23',\n",
              "       '43', '21', '41', '35', '50', '33', '31', '34', '46', '44', '42',\n",
              "       '47', '49'], dtype=object)"
            ]
          },
          "metadata": {},
          "execution_count": 211
        }
      ]
    },
    {
      "cell_type": "code",
      "source": [
        "survey_df['YearsCodePro'].unique()"
      ],
      "metadata": {
        "colab": {
          "base_uri": "https://localhost:8080/"
        },
        "id": "WyYkt_ab-OT3",
        "outputId": "0cfc8f11-7bf1-4b84-92d2-8819ca0bcb7f"
      },
      "execution_count": 212,
      "outputs": [
        {
          "output_type": "execute_result",
          "data": {
            "text/plain": [
              "array([nan, '5', '17', '3', '6', '30', '2', '10', '15', '4', '22', '20',\n",
              "       '40', '9', '14', '21', '7', '18', '25', '8', '12', '45', '1', '19',\n",
              "       '28', '24', '11', '23', 'Less than 1 year', '32', '27', '16', '44',\n",
              "       '26', '37', '46', '13', '31', '39', '34', '38', '35', '29', '42',\n",
              "       '36', '33', '43', '41', '48', '50', 'More than 50 years', '47',\n",
              "       '49'], dtype=object)"
            ]
          },
          "metadata": {},
          "execution_count": 212
        }
      ]
    },
    {
      "cell_type": "markdown",
      "source": [
        "Hơn nữa, như bạn thấy, cột \"Age\" được phân loại thành các khoảng độ tuổi bao gồm:\n",
        "- Dưới 18 tuổi\n",
        "- Từ 18 đến 24 tuổi\n",
        "- Từ 25 đến 34 tuổi\n",
        "- Từ 35 đến 44 tuổi\n",
        "- Từ 45 đến 54 tuổi\n",
        "- Từ 55 đến 64 tuổi\n",
        "- Trên 65 tuổi\n",
        "- Không có dữ liệu (nan value)\n",
        "- Không muốn cho biết thông tin (Prefer not to say)\n",
        "\n",
        "Chúng ta cần mã hóa dữ liệu này về dạng số để có thể tiếp tục khám phá"
      ],
      "metadata": {
        "id": "0j9T8dHH-QRX"
      }
    },
    {
      "cell_type": "code",
      "source": [
        "survey_df['Age'].unique()"
      ],
      "metadata": {
        "colab": {
          "base_uri": "https://localhost:8080/"
        },
        "id": "CTRI6xvu-QxH",
        "outputId": "be865c3a-9041-4b01-b077-2d3a21033188"
      },
      "execution_count": 213,
      "outputs": [
        {
          "output_type": "execute_result",
          "data": {
            "text/plain": [
              "array([nan, '25-34 years old', '35-44 years old', 'Under 18 years old',\n",
              "       '18-24 years old', '45-54 years old', '55-64 years old',\n",
              "       '65 years or older', 'Prefer not to say'], dtype=object)"
            ]
          },
          "metadata": {},
          "execution_count": 213
        }
      ]
    },
    {
      "cell_type": "markdown",
      "source": [
        "## Tiền xử lý dữ liệu - Điểm: (0.5đ)"
      ],
      "metadata": {
        "id": "lJp9STnu-Wfs"
      }
    },
    {
      "cell_type": "markdown",
      "source": [
        "Bạn sẽ thực hiện tiền xử lý để chuyển 2 cột \"YearsCode\" và \"YearsCodePro\" về dạng số (float). Trong đó: \"Less than 1 year\" $\\to$ 0, \"More than 50 years\" $\\to$ 51. Sau khi chuyển thì `survey_df.dtypes` sẽ thay đổi.\n",
        "\n",
        "Đối với cột \"Age\", bạn sẽ thực hiện tiền xử lý để chuyển cột này thành một kiểu dữ liệu có thể biểu diễn được khoảng độ tuổi\n",
        "- Dưới 18 tuổi: biểu diễn trong khoảng từ 0 đến 17\n",
        "- Từ 18 đến 24 tuổi: biểu diễn trong khoảng từ 18 đến 24\n",
        "- Từ 25 đến 34 tuổi: biểu diễn trong khoảng từ 25 đến 34\n",
        "- Từ 35 đến 44 tuổi: biểu diễn trong khoảng từ 35 đến 44\n",
        "- Từ 45 đến 54 tuổi: biểu diễn trong khoảng từ 45 đến 54\n",
        "- Từ 55 đến 64 tuổi: biểu diễn trong khoảng từ 55 đến 64\n",
        "- Trên 65 tuổi: biểu diễn bằng 65\n",
        "- Không có dữ liệu (nan value) và Không muốn cho biết thông tin (Prefer not to say): biểu diễn bằng NaN"
      ],
      "metadata": {
        "id": "2VPrwBMx-XAA"
      }
    },
    {
      "cell_type": "code",
      "source": [
        "survey_df['YearsCode']=survey_df['YearsCode'].replace(['Less than 1 year','More than 50 years'],['0','51']);\n",
        "survey_df['YearsCode']=survey_df['YearsCode'].astype(float);\n",
        "survey_df['YearsCodePro']=survey_df['YearsCodePro'].replace(['Less than 1 year','More than 50 years'],['0','51']);\n",
        "survey_df['YearsCodePro']=survey_df['YearsCodePro'].astype(float);"
      ],
      "metadata": {
        "id": "PlmdWEmq-YvG"
      },
      "execution_count": 214,
      "outputs": []
    },
    {
      "cell_type": "code",
      "source": [
        "# TEST\n",
        "assert survey_df['YearsCode'].dtype in [np.float32, np.float64]\n",
        "assert survey_df['YearsCodePro'].dtype in [np.float32, np.float64]"
      ],
      "metadata": {
        "id": "uxZoimbEEUtE"
      },
      "execution_count": 215,
      "outputs": []
    },
    {
      "cell_type": "code",
      "source": [
        "def transform_age(age_type):\n",
        "  try :\n",
        "    return {'Under 18 years old': (0,17),\n",
        "    '18-24 years old':(18,24),\n",
        "    '25-34 years old':(25,34),\n",
        "    '35-44 years old':(35,44),\n",
        "    '45-54 years old':(45,54),\n",
        "    '55-64 years old':(55,64),\n",
        "    '65 years or older':(65,100)}[age_type]\n",
        "  except :\n",
        "    return (np.nan,np.nan)\n"
      ],
      "metadata": {
        "id": "0qgvRV_rFNSZ"
      },
      "execution_count": 216,
      "outputs": []
    },
    {
      "cell_type": "code",
      "source": [
        "# TEST\n",
        "assert transform_age('45-54 years old') == (45, 54) or transform_age('45-54 years old') == [45, 54]\n",
        "assert transform_age('65 years or older') == (65, 100) or transform_age('65 years or older') == [65, 100]\n",
        "assert transform_age('Under 18 years old') == (0, 17) or transform_age('Under 18 years old') == [0, 17]\n",
        "assert transform_age('Prefer not to say') == (np.nan, np.nan) or transform_age('Prefer not to say') == [np.nan, np.nan]\n",
        "assert transform_age(np.nan) == (np.nan, np.nan) or transform_age(np.nan) == [np.nan, np.nan]"
      ],
      "metadata": {
        "id": "tyPUtcYmJR2Y"
      },
      "execution_count": 217,
      "outputs": []
    },
    {
      "cell_type": "code",
      "source": [
        "# YOUR CODE HERE\n",
        "survey_df[\"Age\"] = survey_df[\"Age\"].apply(transform_age)\n",
        "survey_df[\"Age\"].unique()"
      ],
      "metadata": {
        "colab": {
          "base_uri": "https://localhost:8080/"
        },
        "id": "eYuGu8cyJXMk",
        "outputId": "b40fda50-7ae6-462a-faaf-ca9d31cf869c"
      },
      "execution_count": 218,
      "outputs": [
        {
          "output_type": "execute_result",
          "data": {
            "text/plain": [
              "array([(nan, nan), (25, 34), (35, 44), (0, 17), (18, 24), (45, 54),\n",
              "       (55, 64), (65, 100)], dtype=object)"
            ]
          },
          "metadata": {},
          "execution_count": 218
        }
      ]
    },
    {
      "cell_type": "markdown",
      "source": [
        "## Quay lại bước khám phá dữ liệu "
      ],
      "metadata": {
        "id": "JuqVRjE7KW4x"
      }
    },
    {
      "cell_type": "markdown",
      "source": [
        "### Với mỗi cột có kiểu dữ liệu dạng số, các giá trị được phân bố như thế nào? - Điểm: (1đ)\n",
        "\n",
        "(Trong đó: phần tính các mô tả của mỗi cột chiếm 0.5đ, phần tính số lượng giá trị không hợp lệ của mỗi cột chiếm 0.5đ)"
      ],
      "metadata": {
        "id": "kHhs_4s6KXsy"
      }
    },
    {
      "cell_type": "markdown",
      "source": [
        "Với các cột có kiểu dữ liệu số, bạn sẽ tính:\n",
        "- Tỉ lệ % (từ 0 đến 100) các giá trị thiếu \n",
        "- Giá trị min\n",
        "- Giá trị lower quartile (phân vị 25)\n",
        "- Giá trị median (phân vị 50)\n",
        "- Giá trị upper quartile (phân vị 75)\n",
        "- Giá trị max\n",
        "\n",
        "Bạn sẽ lưu kết quả vào DataFrame `num_col_info_df`, trong đó: \n",
        "- Tên của các cột là tên của các cột số trong `survey_df`\n",
        "- Tên của các dòng là: \"missing_ratio\", \"min\", \"lower_quartile\", \"median\", \"upper_quartile\", \"max\"  \n",
        "\n",
        "Để dễ nhìn, tất cả các giá trị bạn đều làm tròn với 1 chữ số thập phân bằng phương thức `.round(1)`."
      ],
      "metadata": {
        "id": "Xf3MkgtVKaQy"
      }
    },
    {
      "cell_type": "code",
      "source": [
        "\n",
        "num_col_info_df=survey_df.quantile([.25, .5, .75], axis = 0,numeric_only=True)\n",
        "num_col_info_df=num_col_info_df.rename(index={0.25: 'lower_quartile',0.5: 'median',0.75: 'upper_quartile'})\n",
        "num_col_info_df=num_col_info_df.to_dict()\n",
        "for i in num_col_info_df.keys():\n",
        "  if survey_df[i].dtype in [np.float32, np.float64]:\n",
        "    num_col_info_df[i]['missing_ratio']=round(survey_df[i].isnull().sum() * 100 / len(survey_df[i]),1)\n",
        "    num_col_info_df[i]['min']=(survey_df[i].min())\n",
        "    num_col_info_df[i]['max']=(survey_df[i].max())\n",
        "num_col_info_df=pd.DataFrame.from_dict(num_col_info_df)"
      ],
      "metadata": {
        "id": "9pNcCx_xKcGp"
      },
      "execution_count": 219,
      "outputs": []
    },
    {
      "cell_type": "code",
      "source": [
        "# TEST\n",
        "assert num_col_info_df.shape == (6, 5)\n",
        "data = num_col_info_df.loc[['missing_ratio', 'min', 'lower_quartile', 'median', 'upper_quartile', 'max'],\n",
        "                           ['WorkExp', 'CompTotal', 'ConvertedCompYearly', 'YearsCode', 'YearsCodePro']].values\n",
        "\n",
        "correct_data = np.array([[     49.8,      47.6,      48. ,       2.6,      29.3],\n",
        "                         [      0. ,       0. ,       1. ,       0. ,       0. ],\n",
        "                         [      4. ,   30000. ,   35832. ,       5. ,       4. ],\n",
        "                         [      8. ,   77500. ,   67845. ,       9. ,       7. ],\n",
        "                         [     15. ,  154000. ,  120000. ,      16. ,      14. ],\n",
        "                         [     50. ,    9e+56 ,50000000. ,      51. ,      51. ]])\n",
        "\n",
        "\n",
        "assert np.array_equal(data, correct_data)"
      ],
      "metadata": {
        "id": "YbZyzS8nUfTN"
      },
      "execution_count": 220,
      "outputs": []
    },
    {
      "cell_type": "markdown",
      "source": [
        "**Có giá trị không hợp lệ trong mỗi cột không? (không xét giá trị thiếu)**\n",
        "\n",
        "- Cột \"Age\": bạn hãy tính số lượng giá trị không hợp lệ của cột \"Age\" (khoảng độ tuổi Age < giá trị tương ứng trong cột \"YearsCode\" HOẶC < giá trị tương ứng trong cột \"YearsCodePro\") và lưu kết quả vào biến `num_invalid_Age_vals`.\n",
        "- Cột \"YearsCode\": bạn hãy tính số lượng giá trị không hợp lệ của cột \"YearsCode\" (< giá trị tương ứng trong cột \"YearsCodePro\" HOẶC > giá trị tương ứng trong cột \"Age\") và lưu kết quả vào biến `num_invalid_YearsCode`.\n",
        "- Cột \"YearsCodePro\": bạn hãy tính số lượng giá trị không hợp lệ của cột \"YearsCodePro\" (> giá trị tương ứng trong cột \"YearsCode\" HOẶC > giá trị khoảng độ tuổi Age tương ứng trong cột \"Age\") và lưu kết quả vào biến `num_invalid_YearsCodePro`."
      ],
      "metadata": {
        "id": "xYxzIVsJUm8I"
      }
    },
    {
      "cell_type": "code",
      "source": [
        "num_invalid_Age_vals=(len([i for i in survey_df.index if survey_df['Age'][i][1] < survey_df['YearsCode'][i] or survey_df['Age'][i][1] < survey_df['YearsCodePro'][i] ]))"
      ],
      "metadata": {
        "id": "yZRJJcJ-UnfB"
      },
      "execution_count": 221,
      "outputs": []
    },
    {
      "cell_type": "code",
      "source": [
        "num_invalid_YearsCode_vals=(len([i for i in survey_df.index if survey_df['Age'][i][1] < survey_df['YearsCode'][i] or survey_df['YearsCode'][i] < survey_df['YearsCodePro'][i] ]))"
      ],
      "metadata": {
        "id": "MToHJfarYgHK"
      },
      "execution_count": 222,
      "outputs": []
    },
    {
      "cell_type": "code",
      "source": [
        "num_invalid_YearsCodePro_vals=(len([i for i in survey_df.index if survey_df['Age'][i][1] < survey_df['YearsCodePro'][i] or survey_df['YearsCode'][i] < survey_df['YearsCodePro'][i] ]))"
      ],
      "metadata": {
        "id": "vsTn8tseYsTG"
      },
      "execution_count": 223,
      "outputs": []
    },
    {
      "cell_type": "code",
      "source": [
        "# TEST\n",
        "assert num_invalid_Age_vals == 15\n",
        "assert num_invalid_YearsCode_vals == 558\n",
        "assert num_invalid_YearsCodePro_vals == 548"
      ],
      "metadata": {
        "id": "bJICY5UXY81S"
      },
      "execution_count": 224,
      "outputs": []
    },
    {
      "cell_type": "markdown",
      "source": [
        "Do số lượng các giá trị không hợp lệ cũng khá ít nên ta có thể tiền xử lý bằng cách xóa các dòng chứa các giá trị không hợp lệ."
      ],
      "metadata": {
        "id": "OhbgTY0ZZDbx"
      }
    },
    {
      "cell_type": "markdown",
      "source": [
        "## Tiền xử lý - Điểm: (0.5đ)\n",
        "\n",
        "Bạn sẽ thực hiện tiền xử lý để xóa đi các dòng của DataFrame `survey_df` mà chứa ít nhất là một giá trị không hợp lệ. Sau khi tiền xử lý thì `survey_df` sẽ thay đổi. "
      ],
      "metadata": {
        "id": "cPX0ZxneZGVQ"
      }
    },
    {
      "cell_type": "code",
      "source": [
        "NeedToRemove=([i for i in survey_df.index if survey_df['Age'][i][1] < survey_df['YearsCode'][i] or survey_df['Age'][i][1] < survey_df['YearsCodePro'][i] ]+\n",
        "      [i for i in survey_df.index if survey_df['Age'][i][1] < survey_df['YearsCode'][i] or survey_df['YearsCode'][i] < survey_df['YearsCodePro'][i] ]+\n",
        "      [i for i in survey_df.index if survey_df['Age'][i][1] < survey_df['YearsCodePro'][i] or survey_df['YearsCode'][i] < survey_df['YearsCodePro'][i] ])\n",
        "NeedToRemove = list(dict.fromkeys(NeedToRemove))\n",
        "survey_df = survey_df.drop(index = NeedToRemove)\n"
      ],
      "metadata": {
        "id": "XJtFUCNRZIFV"
      },
      "execution_count": 225,
      "outputs": []
    },
    {
      "cell_type": "code",
      "source": [
        "# TEST\n",
        "assert len(survey_df) == 72710"
      ],
      "metadata": {
        "id": "vPsMGbFYahQQ"
      },
      "execution_count": 226,
      "outputs": []
    },
    {
      "cell_type": "markdown",
      "source": [
        "## Quay lại bước khám phá dữ liệu\n",
        "\n",
        "### Với mỗi cột có kiểu dữ liệu không phải dạng số, các giá trị được phân bố như thế nào? - Điểm: (1đ)\n",
        "\n",
        "Với các cột có kiểu dữ liệu không phải số, bạn sẽ tính:\n",
        "- Tỉ lệ % (từ 0 đến 100) các giá trị thiếu \n",
        "- Số lượng các giá trị (các giá trị ở đây là các giá trị khác nhau và ta không xét giá trị thiếu): với cột mà ứng với câu hỏi dạng multichoice (ví dụ, cột \"DevType\"), mỗi giá trị có thể chứa nhiều choice (các choice được phân tách bởi dấu chấm phẩy), và việc đếm trực tiếp các giá trị không có nhiều ý nghĩa lắm vì số lượng tổ hợp các choice là khá nhiều; một cách khác tốt hơn mà bạn sẽ làm là đếm số lượng các choice\n",
        "- Tỉ lệ % (từ 0 đến 100) của mỗi giá trị được sort theo tỉ lệ % giảm dần (ta không xét giá trị thiếu, tỉ lệ là tỉ lệ so với số lượng các giá trị không thiếu): bạn dùng dictionary để lưu, key là giá trị, value là tỉ lệ %; với cột mà ứng với câu hỏi dạng multichoice, cách làm tương tự như ở trên\n",
        "\n",
        "Bạn sẽ lưu kết quả vào DataFrame `cat_col_info_df`, trong đó: \n",
        "- Tên của các cột là tên của các cột không phải số trong `survey_df`\n",
        "- Tên của các dòng là: \"missing_ratio\", \"num_values\", \"value_ratios\"  \n",
        "\n",
        "Để dễ nhìn, tất cả các giá trị bạn đều làm tròn với 1 chữ số thập phân bằng phương thức `.round(1)`.\n",
        "\n",
        "Gợi ý: có thể bạn sẽ muốn dùng [phương thức `explode`](https://pandas.pydata.org/pandas-docs/stable/reference/api/pandas.Series.explode.html)."
      ],
      "metadata": {
        "id": "vrTCvd2NalgB"
      }
    },
    {
      "cell_type": "code",
      "source": [
        "survey_df.columns"
      ],
      "metadata": {
        "colab": {
          "base_uri": "https://localhost:8080/"
        },
        "id": "FlV4zTeFapTP",
        "outputId": "ac320755-0371-4fed-d97e-a3c7b5c9acd6"
      },
      "execution_count": 227,
      "outputs": [
        {
          "output_type": "execute_result",
          "data": {
            "text/plain": [
              "Index(['MainBranch', 'Employment', 'RemoteWork', 'EdLevel',\n",
              "       'LearnCodeCoursesCert', 'YearsCode', 'YearsCodePro', 'DevType',\n",
              "       'Country', 'CompTotal', 'CompFreq', 'LanguageHaveWorkedWith',\n",
              "       'LanguageWantToWorkWith', 'DatabaseHaveWorkedWith',\n",
              "       'DatabaseWantToWorkWith', 'PlatformHaveWorkedWith',\n",
              "       'PlatformWantToWorkWith', 'WebframeHaveWorkedWith',\n",
              "       'WebframeWantToWorkWith', 'MiscTechHaveWorkedWith',\n",
              "       'MiscTechWantToWorkWith', 'ToolsTechHaveWorkedWith',\n",
              "       'ToolsTechWantToWorkWith', 'NEWCollabToolsHaveWorkedWith',\n",
              "       'NEWCollabToolsWantToWorkWith', 'OpSysPersonal use',\n",
              "       'OfficeStackAsyncHaveWorkedWith', 'OfficeStackAsyncWantToWorkWith',\n",
              "       'NEWSOSites', 'SOVisitFreq', 'SOAccount', 'SOPartFreq', 'SOComm', 'Age',\n",
              "       'Gender', 'WorkExp', 'ConvertedCompYearly'],\n",
              "      dtype='object')"
            ]
          },
          "metadata": {},
          "execution_count": 227
        }
      ]
    },
    {
      "cell_type": "code",
      "source": [
        "# Các cột ứng với câu hỏi khảo sát multichoice\n",
        "multichoice_cols = ['DevType', 'Gender',\n",
        "                    'LanguageHaveWorkedWith', 'LanguageWantToWorkWith', \n",
        "                    'DatabaseHaveWorkedWith', 'DatabaseWantToWorkWith', \n",
        "                    'PlatformHaveWorkedWith', 'PlatformWantToWorkWith',\n",
        "                    'WebframeHaveWorkedWith', 'WebframeWantToWorkWith',\n",
        "                    'MiscTechHaveWorkedWith', 'MiscTechWantToWorkWith', \n",
        "                    ]"
      ],
      "metadata": {
        "id": "iPwAGPqiasUs"
      },
      "execution_count": 228,
      "outputs": []
    },
    {
      "cell_type": "code",
      "source": [
        "pd.set_option('display.max_colwidth', 100) # Để dễ nhìn\n",
        "pd.set_option('display.max_columns', None) # Để dễ nhìn\n",
        "\n",
        "cat_col_info_df={}\n",
        "for i in survey_df.columns:\n",
        "  if survey_df[i].dtype not in [np.float32, np.float64]:\n",
        "    cat_col_info_df[i]={}\n",
        "    cat_col_info_df[i]['missing_ratio']=round(survey_df[i].isnull().sum() * 100 / len(survey_df[i]),1)\n",
        "    flat_list = [item for sublist in  [x for x in survey_df[i] if str(x) != 'nan'] for item in str(sublist).split(';')]\n",
        "    flat_dict = (dict.fromkeys(flat_list))\n",
        "    cat_col_info_df[i]['num_values'] = len(flat_dict)\n",
        "    cat_col_info_df[i]['value_ratios'] = {i: round(flat_list.count(i)* 100 /len(flat_list),1)  for i in flat_dict.keys()}\n",
        "cat_col_info_df=pd.DataFrame.from_dict(cat_col_info_df)\n",
        "\n",
        "\n",
        "\n",
        "#print( cat_col_info_df)\n",
        "    #t.update(survey_df['DevType'][i].split(',').to_dict())"
      ],
      "metadata": {
        "id": "8hj5_PqLcNZX"
      },
      "execution_count": 229,
      "outputs": []
    },
    {
      "cell_type": "code",
      "source": [
        "# TEST\n",
        "c = cat_col_info_df['MainBranch']\n",
        "assert c.loc['missing_ratio'] == 0.0\n",
        "assert c.loc['num_values'] == 6\n",
        "assert c.loc['value_ratios']['I am a developer by profession'] == 72.9\n",
        "\n",
        "c = cat_col_info_df['DevType']\n",
        "assert c.loc['missing_ratio'] == 16.4\n",
        "assert c.loc['num_values'] == 29\n",
        "assert c.loc['value_ratios']['Academic researcher'] == 1.6\n",
        "\n",
        "c = cat_col_info_df['PlatformHaveWorkedWith']\n",
        "assert c.loc['missing_ratio'] == 31.9\n",
        "assert c.loc['num_values'] == 14\n",
        "assert c.loc['value_ratios']['DigitalOcean'] == 8.1"
      ],
      "metadata": {
        "id": "SSbikmHIxVp2"
      },
      "execution_count": 237,
      "outputs": []
    },
    {
      "cell_type": "markdown",
      "source": [
        "## Đặt câu hỏi \n",
        "\n",
        "Sau khi khám phá dữ liệu, ta đã hiểu hơn về dữ liệu. Bây giờ, ta hãy xem thử có câu hỏi nào có thể được trả lời bằng dữ liệu này.\n",
        "\n",
        "**Một câu hỏi có thể có là:** Platform nào (Windows, Linux, Docker, AWS, ...) được yêu thích nhất, platform nào được yêu thích nhì, platform nào được yêu thích ba, ...?\n",
        "\n",
        "Một platform được xem là được yêu thích nếu một người đã dùng platform này (cột \"PlatformHaveWorkedWith\") và muốn tiếp tục dùng platform trong năm kế (cột \"PlatformWantToWorkWith\").\n",
        "\n",
        "**Trả lời được câu hỏi này sẽ** phần nào giúp ta định hướng là nên tập trung học platform nào để có thể chuẩn bị cho tương lai (mình nói \"phần nào\" vì ở đây dữ liệu chỉ giới hạn trong phạm vi những người làm khảo sát của StackOverflow)."
      ],
      "metadata": {
        "id": "y3MSC-Uqx4sM"
      }
    },
    {
      "cell_type": "markdown",
      "source": [
        "## Tiền xử lý\n",
        "\n",
        "Nếu bạn thấy cần thực hiện thêm thao tác tiền xử lý để chuẩn bị dữ liệu cho bước phân tích thì bạn làm ở đây. Bước này là không bắt buộc. "
      ],
      "metadata": {
        "id": "GfHk-BOqx9x5"
      }
    },
    {
      "cell_type": "code",
      "source": [
        "survey2021_df=(pd.read_csv('./data/2021/survey_results_public.csv',index_col='ResponseId'))\n",
        "survey2020_df=(pd.read_csv('./data/2020/survey_results_public.csv',index_col='Respondent'))"
      ],
      "metadata": {
        "id": "sEKw98shyBG2"
      },
      "execution_count": 231,
      "outputs": []
    },
    {
      "cell_type": "markdown",
      "source": [
        "## Phân tích dữ liệu - Điểm: (2đ)\n",
        "\n",
        "Bây giờ, bạn sẽ thực hiện phân tích dữ liệu để trả lời cho câu hỏi ở trên. Cụ thể các bước như sau:\n",
        "- Bước 1: tính Series `most_loved_platforms`, trong đó: \n",
        "    - Index là tên flatform (ở bước khám phá dữ liệu, bạn đã thấy có tất cả 16 platform)\n",
        "    - Data là tỉ lệ % (từ 0 đến 100, được làm tròn với một chữ số thập phân bằng phương thức `round(1)`) được yêu thích (được sort giảm dần) \n",
        "- Bước 2: từ Series `most_loved_platforms`, bạn vẽ bar chart:\n",
        "    - Bạn cho các bar nằm ngang (cho dễ nhìn)\n",
        "    - Bạn đặt tên trục hoành là \"Tỉ lệ %\""
      ],
      "metadata": {
        "id": "2fxK2U8KyBYJ"
      }
    },
    {
      "cell_type": "code",
      "source": [
        "def MostUsedEngineData(df_,ColName_WorkedWith='PlatformHaveWorkedWith',ColName_WantToWor='PlatformWantToWorkWith'):\n",
        "  dict_={ColName_WorkedWith:df_[ColName_WorkedWith].values, ColName_WantToWor:df_[ColName_WantToWor].values}\n",
        "  flat_list = [item for subindex in  [x for x in range(len(dict_[ColName_WorkedWith])) if str(dict_[ColName_WorkedWith][x]) != 'nan'] \n",
        "              for item in str(dict_[ColName_WorkedWith][subindex]).split(';') ]\n",
        "\n",
        "  flat_dict = (dict.fromkeys(flat_list))\n",
        "  flat_list = [item for subindex in  [x for x in range(len(dict_[ColName_WorkedWith])) if str(dict_[ColName_WorkedWith][x]) != 'nan'] \n",
        "              for item in str(dict_[ColName_WorkedWith][subindex]).split(';') if item in str(dict_[ColName_WantToWor][subindex]).split(';') ]\n",
        "\n",
        "  return {i: round(flat_list.count(i)* 100 /len(flat_list),1)  for i in flat_dict.keys()}\n",
        "\n",
        "\n",
        "most_loved_platforms= pd.Series(MostUsedEngineData(survey_df)).sort_index()"
      ],
      "metadata": {
        "id": "UaHBR4W4Ck82"
      },
      "execution_count": 232,
      "outputs": []
    },
    {
      "cell_type": "code",
      "source": [
        "plt.figure(figsize=(16,12))\n",
        "plt.barh(most_loved_platforms.index, most_loved_platforms.values)\n",
        "plt.xlabel(\"Tỉ lệ %\")\n",
        "plt.title(\"2022\")\n",
        "plt.show()"
      ],
      "metadata": {
        "colab": {
          "base_uri": "https://localhost:8080/",
          "height": 731
        },
        "id": "DjypjZ3sQGwR",
        "outputId": "8898075c-1ae1-4583-e29b-35cda08835ac"
      },
      "execution_count": 233,
      "outputs": [
        {
          "output_type": "display_data",
          "data": {
            "text/plain": [
              "<Figure size 1152x864 with 1 Axes>"
            ],
            "image/png": "[encoded data removed]"
          },
          "metadata": {
            "needs_background": "light"
          }
        }
      ]
    },
    {
      "cell_type": "markdown",
      "source": [
        "Có điều gì thay đổi trong hai năm vừa qua, các bạn hãy tìm hiểu bằng cách trực quan với các năm 2020, 2021 nhé!"
      ],
      "metadata": {
        "id": "8NQKs22JUIqr"
      }
    },
    {
      "cell_type": "code",
      "source": [
        "most_loved_platforms_2020=pd.Series(MostUsedEngineData(survey2020_df,ColName_WorkedWith='PlatformWorkedWith',ColName_WantToWor='PlatformDesireNextYear')).sort_index()\n",
        "most_loved_platforms_2021=pd.Series(MostUsedEngineData(survey2021_df,ColName_WorkedWith='PlatformHaveWorkedWith',ColName_WantToWor='PlatformWantToWorkWith')).sort_index()\n",
        "plt.figure(figsize=(16,12))\n",
        "ax1 = plt.subplot(2, 1, 1)\n",
        "ax1.barh(most_loved_platforms_2021.index, most_loved_platforms_2021.values)\n",
        "ax1.set_title('2021')\n",
        "ax1.set_xlabel(\"Tỉ lệ %\")\n",
        "ax2 = plt.subplot(2, 1, 2)\n",
        "ax2.barh(most_loved_platforms_2020.index, most_loved_platforms_2020.values)\n",
        "ax2.set_title('2020')\n",
        "ax2.set_xlabel(\"Tỉ lệ %\")\n",
        "plt.show()"
      ],
      "metadata": {
        "colab": {
          "base_uri": "https://localhost:8080/",
          "height": 731
        },
        "id": "qLjzePlQUJOQ",
        "outputId": "bc5551e6-a2db-4da6-fe61-894acf334141"
      },
      "execution_count": 234,
      "outputs": [
        {
          "output_type": "display_data",
          "data": {
            "text/plain": [
              "<Figure size 1152x864 with 2 Axes>"
            ],
            "image/png": "[encoded data removed]"
          },
          "metadata": {
            "needs_background": "light"
          }
        }
      ]
    },
    {
      "cell_type": "markdown",
      "source": [
        "## Đặt câu hỏi của bạn - Điểm: (1.5đ)\n",
        "\n",
        "Bây giờ, đến lượt bạn phải tự suy nghĩ và đưa ra câu hỏi mà có thể trả lời bằng dữ liệu. Ngoài việc đưa ra câu hỏi, bạn cũng phải giải thích để người đọc thấy nếu trả lời được câu hỏi thì sẽ có lợi ích gì. Bạn không nên đưa ra câu hỏi cùng dạng với câu hỏi của mình ở trên.  \n",
        "\n",
        "YOUR ANSWER HERE\n",
        "\n",
        "Với các DEV mong muốn một mức lương cao thì các DEV phải đến và làm việc tại đất nước nào? \n",
        "- Scrapy tỷ giá (cho nhanh chóng tỉ giá được lưu ở `USDto` cập nhật ngày 2-9-2022)\n",
        "- Hướng tới các đối tượng có `MainBranch` là `I am a developer by profession` với mức lương không quá 1 triệu đô la Mỹ trên năm (được quy đổi đối hoái), các đất nước có nhiều hơn 500 người khảo sát "
      ],
      "metadata": {
        "id": "rUrozOIF54c1"
      }
    },
    {
      "cell_type": "markdown",
      "source": [
        "## Tiền xử lý để chuẩn bị dữ liệu cho bước phân tích để trả lời cho câu hỏi của bạn\n",
        "\n",
        "Phần này là không bắt buộc. "
      ],
      "metadata": {
        "id": "wPcVro9f564i"
      }
    },
    {
      "cell_type": "code",
      "source": [
        "USDto={np.nan : 0, 'CAD': 1.3609,'USD': 1., 'GBP': 0.8704, 'ILS': 3.5409, 'EUR': 1.0128, 'HRK': 7.6253, 'AUD': 1.5605, 'RUB': 61.55, 'CZK': 24.769, 'PLN': 4.7632, 'NOK': 10.3318, 'TWD': 32.149, 'HKD': 7.8496, 'INR': 82.788, 'BRL': 5.1432, 'UYU': 40.61, 'RSD': 118.57, 'SEK': 11.0182, 'DKK': 7.5383, 'EGP': 24.15, 'TRY': 18.6164, 'RON': 4.9656, 'SGD': 1.413, 'SAR': 3.7575, 'BGN': 1.9803, 'BYN': 2.5191, 'KES': 121.35, 'CHF': 0.9996, 'ZAR': 18.1703, 'ISK': 145.15, 'THB': 37.75, 'CNY': 7.2785, 'VND': 24830.0, 'ARS': 157.27, 'HUF': 411.74, 'TND': 3.2263, 'BDT': 101.85, 'MVR': 15.42, 'CLP': 942.99, 'MXN': 19.7223, 'PKR': 221.0, 'NPR': 132.45, 'IDR': 15650.0, 'UAH': 36.93, 'BAM': 1.9803, 'IMP': 1.7053, 'IRR': 42000.0, 'CRC': 614.125, 'MUR': 44.25, 'KZT': 460.34, 'XOF': 656.25, 'MAD': 10.9527, 'PHP': 58.42, 'AMD': 398.8, 'NZD': 1.7053, 'AED': 3.6727, 'JPY': 147.32, 'PEN': 3.9717, 'COP': 5002.0, 'GIP': 147.32, 'DOP': 53.82, 'AFN': 88.27, 'KRW': 1419.49, 'LBP': 1505.5, 'MYR': 4.738, 'GTQ': 7.81, 'AZN': 1.693, 'LKR': 362.0, 'UZS': 11107.69, 'QAR': 3.64, 'NGN': 434.0, 'MGA': 4255.0, 'ETB': 52.8867, 'MKD': 62.29, 'KHR': 4131.0, 'JOD': 0.708, 'YER': 249.95, 'ANG': 119.13, 'FJD': 2.2604, 'PGK': 3.4305, 'UGX': 3785.0, 'MNT': 3383.0, 'DZD': 139.994, 'TJS': 119.13, 'GHS': 13.5, 'TZS': 2327.0, 'MDL': 19.22, 'XAF': 661.44, 'TMT': 3.49, 'BWP': 13.3869, 'ALL': 119.13, 'MMK': 2093.7, 'GEL': 2.73, 'BHD': 0.3769, 'KWD': 0.3098, 'CVE': 111.64, 'LYD': 4.9874, 'RWF': 1065.04, 'BMD': 1.0, 'BOB': 6.85, 'KYD': 0.825, 'VES': 8.553, 'HNL': 24.6406, 'PYG': 7263.47, 'SYP': 2511.0, 'CUP': 24.0, 'BTN': 82.639, 'BZD': 1.9982, 'JMD': 152.67, 'BBD': 1.9981, 'NIO': 35.99, 'ZMW': 16.185, 'KGS': 476.0, 'IQD': 1458.52, 'BIF': 2036.25, 'LAK': 17352.0, 'MZN': 63.24, 'AOA': 476.0, 'AWG': 1.78, 'OMR': 0.385, 'SDG': 578.5, 'SHP': 0.8365, 'DJF': 177.5, 'SCR': 13.62, 'SZL': 18.181, 'GNF': 8551.0, 'TTD': 6.7301, 'BND': 1.413, 'SLL': 17298.0, 'NAD': 18.181, 'HTG': 127.0, 'MWK': 1014.15, 'GYD': 207.98, 'none': 1.413, 'XPF': 120.51, 'CDF': 2009.0, 'SOS': 565.0, 'XDR': 1.413, 'XCD': 2.7, 'SBD': 1.413, 'JEP': 1.413, 'TOP': 1.413}\n",
        "toYearly={np.nan : 0, 'Yearly': 1, 'Monthly': 12, 'Weekly': 52}\n",
        "survey_df__1=(pd.read_csv('./data/2022/survey_results_public.csv',index_col='ResponseId'));\n",
        "survey_df__1=((survey_df__1.loc[survey_df.index]))"
      ],
      "metadata": {
        "id": "__TcnFDoD9Xx"
      },
      "execution_count": 235,
      "outputs": []
    },
    {
      "cell_type": "markdown",
      "source": [
        "## Phân tích dữ liệu để ra câu trả lời cho câu hỏi của bạn - Điểm: (2đ)"
      ],
      "metadata": {
        "id": "jWsKL9FIrngB"
      }
    },
    {
      "cell_type": "code",
      "source": [
        "\n",
        "re_={ x:{'CountPeople':0,'CompTotal':0} for x in survey_df__1['Country'].unique()}\n",
        "dict__1={'MainBranch':survey_df__1['MainBranch'].values, \n",
        "         'Country':survey_df__1['Country'].values, \n",
        "         'Currency':[x.replace('\\t', ' ').split(' ')[0] if str(x)!='nan' else x for x in survey_df__1['Currency'].values],\n",
        "         'CompTotal':[x if str(x)!='nan' else 0 for x in survey_df__1['CompTotal'].values],'CompFreq':survey_df__1['CompFreq'].values}\n",
        "for i in range(len(survey_df__1)):\n",
        "  try:\n",
        "    CompTotal=dict__1['CompTotal'][i]*toYearly[dict__1['CompFreq'][i]]/USDto[dict__1['Currency'][i]]\n",
        "  except :\n",
        "    CompTotal=0\n",
        "  if CompTotal>0 and CompTotal<1000000 and dict__1['MainBranch'][i]=='I am a developer by profession':\n",
        "    re_[dict__1['Country'][i]]['CountPeople']+=1;\n",
        "    re_[dict__1['Country'][i]]['CompTotal']+=CompTotal;\n",
        "re_.pop(np.nan)\n",
        "re_=({ x:re_[x]['CompTotal']/re_[x]['CountPeople'] if re_[x]['CountPeople']>500 else 0.0  for x in re_.keys()})\n",
        "\n",
        "pd.Series(re_).sort_values(ascending=False).head()"
      ],
      "metadata": {
        "colab": {
          "base_uri": "https://localhost:8080/"
        },
        "id": "RUpcOhPTS3Kd",
        "outputId": "c94d3779-384f-4d43-e74a-22b57170716d"
      },
      "execution_count": 236,
      "outputs": [
        {
          "output_type": "execute_result",
          "data": {
            "text/plain": [
              "United States of America                                160397.892504\n",
              "United Kingdom of Great Britain and Northern Ireland    128510.894910\n",
              "Australia                                               111367.070256\n",
              "Canada                                                  107093.039847\n",
              "Germany                                                  94217.312966\n",
              "dtype: float64"
            ]
          },
          "metadata": {},
          "execution_count": 236
        }
      ]
    }
  ]
}